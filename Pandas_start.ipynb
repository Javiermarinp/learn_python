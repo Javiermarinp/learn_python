{
  "nbformat": 4,
  "nbformat_minor": 0,
  "metadata": {
    "colab": {
      "name": "Pandas start.ipynb",
      "provenance": [],
      "authorship_tag": "ABX9TyPeEDOd/LqoYsT82zwDWCMV",
      "include_colab_link": true
    },
    "kernelspec": {
      "name": "python3",
      "display_name": "Python 3"
    },
    "language_info": {
      "name": "python"
    }
  },
  "cells": [
    {
      "cell_type": "markdown",
      "metadata": {
        "id": "view-in-github",
        "colab_type": "text"
      },
      "source": [
        "<a href=\"https://colab.research.google.com/github/Javiermarinp/learn_python/blob/main/Pandas_start.ipynb\" target=\"_parent\"><img src=\"https://colab.research.google.com/assets/colab-badge.svg\" alt=\"Open In Colab\"/></a>"
      ]
    },
    {
      "cell_type": "markdown",
      "metadata": {
        "id": "DueeQlj4eB0J"
      },
      "source": [
        "# PANDAS - Primeros pasos\n",
        "\n",
        "Antes de nada, hay que importar la libreria de panda, y vamos a ver como se pueden leer ficheros, por ejemplo csv.\n",
        "\n",
        "La función **read_csv** tiene muchos más argumentos que nos permiten hacer múltiples acciones a la hora de leer el archivo.\n",
        "\n",
        "Por ejemplo podemos indicar el separador de cada línea del fichero con \"sep\", pero hay muchos otras opciones que podemos consultar en la[ documentación oficial.](https://pandas.pydata.org/pandas-docs/stable/reference/api/pandas.read_csv.html)"
      ]
    },
    {
      "cell_type": "code",
      "metadata": {
        "colab": {
          "base_uri": "https://localhost:8080/",
          "height": 198
        },
        "id": "GAQghWNUebDz",
        "outputId": "f2db4744-de75-40e7-f3d3-b43d943b7adf"
      },
      "source": [
        "import pandas as pd\n",
        "\n",
        "url_fichero = \"https://raw.githubusercontent.com/alexsnsk/alejandrocastillothevalley/main/customers.csv\"\n",
        "customers = pd.read_csv(url_fichero)\n",
        "\n",
        "\n",
        "#La función head() nos permite mostrar las primeras lineas del archivo\n",
        "customers.head()"
      ],
      "execution_count": 2,
      "outputs": [
        {
          "output_type": "execute_result",
          "data": {
            "text/html": [
              "<div>\n",
              "<style scoped>\n",
              "    .dataframe tbody tr th:only-of-type {\n",
              "        vertical-align: middle;\n",
              "    }\n",
              "\n",
              "    .dataframe tbody tr th {\n",
              "        vertical-align: top;\n",
              "    }\n",
              "\n",
              "    .dataframe thead th {\n",
              "        text-align: right;\n",
              "    }\n",
              "</style>\n",
              "<table border=\"1\" class=\"dataframe\">\n",
              "  <thead>\n",
              "    <tr style=\"text-align: right;\">\n",
              "      <th></th>\n",
              "      <th>Customer_ID</th>\n",
              "      <th>Customer_Name</th>\n",
              "      <th>Segment</th>\n",
              "      <th>Country</th>\n",
              "      <th>City</th>\n",
              "      <th>State</th>\n",
              "      <th>Postal_Code</th>\n",
              "      <th>Region</th>\n",
              "    </tr>\n",
              "  </thead>\n",
              "  <tbody>\n",
              "    <tr>\n",
              "      <th>0</th>\n",
              "      <td>JL-15130</td>\n",
              "      <td>Jack Lebron</td>\n",
              "      <td>Consumer</td>\n",
              "      <td>United States</td>\n",
              "      <td>Riverside</td>\n",
              "      <td>California</td>\n",
              "      <td>92503</td>\n",
              "      <td>West</td>\n",
              "    </tr>\n",
              "    <tr>\n",
              "      <th>1</th>\n",
              "      <td>SW-20245</td>\n",
              "      <td>Scot Wooten</td>\n",
              "      <td>Consumer</td>\n",
              "      <td>United States</td>\n",
              "      <td>Springfield</td>\n",
              "      <td>Ohio</td>\n",
              "      <td>45503</td>\n",
              "      <td>East</td>\n",
              "    </tr>\n",
              "    <tr>\n",
              "      <th>2</th>\n",
              "      <td>SM-20320</td>\n",
              "      <td>Sean Miller</td>\n",
              "      <td>Home Office</td>\n",
              "      <td>United States</td>\n",
              "      <td>Jacksonville</td>\n",
              "      <td>Florida</td>\n",
              "      <td>32216</td>\n",
              "      <td>South</td>\n",
              "    </tr>\n",
              "    <tr>\n",
              "      <th>3</th>\n",
              "      <td>ML-18040</td>\n",
              "      <td>Michelle Lonsdale</td>\n",
              "      <td>Corporate</td>\n",
              "      <td>United States</td>\n",
              "      <td>Missouri City</td>\n",
              "      <td>Texas</td>\n",
              "      <td>77489</td>\n",
              "      <td>Central</td>\n",
              "    </tr>\n",
              "    <tr>\n",
              "      <th>4</th>\n",
              "      <td>JG-15115</td>\n",
              "      <td>Jack Garza</td>\n",
              "      <td>Consumer</td>\n",
              "      <td>United States</td>\n",
              "      <td>Charlotte</td>\n",
              "      <td>North Carolina</td>\n",
              "      <td>28205</td>\n",
              "      <td>South</td>\n",
              "    </tr>\n",
              "  </tbody>\n",
              "</table>\n",
              "</div>"
            ],
            "text/plain": [
              "  Customer_ID      Customer_Name  ... Postal_Code   Region\n",
              "0    JL-15130        Jack Lebron  ...       92503     West\n",
              "1    SW-20245        Scot Wooten  ...       45503     East\n",
              "2    SM-20320        Sean Miller  ...       32216    South\n",
              "3    ML-18040  Michelle Lonsdale  ...       77489  Central\n",
              "4    JG-15115         Jack Garza  ...       28205    South\n",
              "\n",
              "[5 rows x 8 columns]"
            ]
          },
          "metadata": {
            "tags": []
          },
          "execution_count": 2
        }
      ]
    },
    {
      "cell_type": "markdown",
      "metadata": {
        "id": "JqNeffQoe4GC"
      },
      "source": [
        "# Index\n",
        "\n",
        "Los DataFrames de Pandas tienen un campo llamado Index, que facilita el acceder a los datos de una manera más fácil. También permite dar un nombre a cada fila, lo que facilita el trabajar con el DataFrame."
      ]
    },
    {
      "cell_type": "code",
      "metadata": {
        "colab": {
          "base_uri": "https://localhost:8080/",
          "height": 228
        },
        "id": "F43Dk6Ire7ro",
        "outputId": "06a5be8d-c5a3-4198-9e20-39edd89d7cb5"
      },
      "source": [
        "#Podemos darle a cada fila el nombre del valor customer_id utilizandolo como index. Al ser un valor único, nos será muy útil.\n",
        "customers = pd.read_csv(url_fichero, index_col=\"Customer_ID\")\n",
        "customers.head()"
      ],
      "execution_count": 3,
      "outputs": [
        {
          "output_type": "execute_result",
          "data": {
            "text/html": [
              "<div>\n",
              "<style scoped>\n",
              "    .dataframe tbody tr th:only-of-type {\n",
              "        vertical-align: middle;\n",
              "    }\n",
              "\n",
              "    .dataframe tbody tr th {\n",
              "        vertical-align: top;\n",
              "    }\n",
              "\n",
              "    .dataframe thead th {\n",
              "        text-align: right;\n",
              "    }\n",
              "</style>\n",
              "<table border=\"1\" class=\"dataframe\">\n",
              "  <thead>\n",
              "    <tr style=\"text-align: right;\">\n",
              "      <th></th>\n",
              "      <th>Customer_Name</th>\n",
              "      <th>Segment</th>\n",
              "      <th>Country</th>\n",
              "      <th>City</th>\n",
              "      <th>State</th>\n",
              "      <th>Postal_Code</th>\n",
              "      <th>Region</th>\n",
              "    </tr>\n",
              "    <tr>\n",
              "      <th>Customer_ID</th>\n",
              "      <th></th>\n",
              "      <th></th>\n",
              "      <th></th>\n",
              "      <th></th>\n",
              "      <th></th>\n",
              "      <th></th>\n",
              "      <th></th>\n",
              "    </tr>\n",
              "  </thead>\n",
              "  <tbody>\n",
              "    <tr>\n",
              "      <th>JL-15130</th>\n",
              "      <td>Jack Lebron</td>\n",
              "      <td>Consumer</td>\n",
              "      <td>United States</td>\n",
              "      <td>Riverside</td>\n",
              "      <td>California</td>\n",
              "      <td>92503</td>\n",
              "      <td>West</td>\n",
              "    </tr>\n",
              "    <tr>\n",
              "      <th>SW-20245</th>\n",
              "      <td>Scot Wooten</td>\n",
              "      <td>Consumer</td>\n",
              "      <td>United States</td>\n",
              "      <td>Springfield</td>\n",
              "      <td>Ohio</td>\n",
              "      <td>45503</td>\n",
              "      <td>East</td>\n",
              "    </tr>\n",
              "    <tr>\n",
              "      <th>SM-20320</th>\n",
              "      <td>Sean Miller</td>\n",
              "      <td>Home Office</td>\n",
              "      <td>United States</td>\n",
              "      <td>Jacksonville</td>\n",
              "      <td>Florida</td>\n",
              "      <td>32216</td>\n",
              "      <td>South</td>\n",
              "    </tr>\n",
              "    <tr>\n",
              "      <th>ML-18040</th>\n",
              "      <td>Michelle Lonsdale</td>\n",
              "      <td>Corporate</td>\n",
              "      <td>United States</td>\n",
              "      <td>Missouri City</td>\n",
              "      <td>Texas</td>\n",
              "      <td>77489</td>\n",
              "      <td>Central</td>\n",
              "    </tr>\n",
              "    <tr>\n",
              "      <th>JG-15115</th>\n",
              "      <td>Jack Garza</td>\n",
              "      <td>Consumer</td>\n",
              "      <td>United States</td>\n",
              "      <td>Charlotte</td>\n",
              "      <td>North Carolina</td>\n",
              "      <td>28205</td>\n",
              "      <td>South</td>\n",
              "    </tr>\n",
              "  </tbody>\n",
              "</table>\n",
              "</div>"
            ],
            "text/plain": [
              "                 Customer_Name      Segment  ... Postal_Code   Region\n",
              "Customer_ID                                  ...                     \n",
              "JL-15130           Jack Lebron     Consumer  ...       92503     West\n",
              "SW-20245           Scot Wooten     Consumer  ...       45503     East\n",
              "SM-20320           Sean Miller  Home Office  ...       32216    South\n",
              "ML-18040     Michelle Lonsdale    Corporate  ...       77489  Central\n",
              "JG-15115            Jack Garza     Consumer  ...       28205    South\n",
              "\n",
              "[5 rows x 7 columns]"
            ]
          },
          "metadata": {
            "tags": []
          },
          "execution_count": 3
        }
      ]
    },
    {
      "cell_type": "markdown",
      "metadata": {
        "id": "iym2R-GFo4Tp"
      },
      "source": [
        "#Leyendo datos de una base de datos\n",
        "Python, y concretamente Pandas nos permite conectarnos a una base de datos y ejecutar código SQL para recuperar datos y guardarlos en un DataFrame.\n",
        "\n",
        "Para este ejemplo, utilizaremos la libreria sqlite que creará una pequeña base de datos a la que nos podremos"
      ]
    },
    {
      "cell_type": "code",
      "metadata": {
        "id": "HaW1kesPpJdm"
      },
      "source": [
        "####################  ESTE TROZO DE CÓDIGO NOS CREARÁ UNA PEQUEÑA BASE DE DATOS PARA UTILIZAR DE EJEMPLO. ####\n",
        "####################   NO ES NECESARIO QUE LO APRENDAIS, SOLO EJECUTARLO UNA VEZ                          ####\n",
        "# Importamos SQLite\n",
        "import sqlite3 \n",
        "# conectamos a la BD\n",
        "db_con = sqlite3.connect(r'database.db') \n",
        "# Leemos todos los csvs\n",
        "c = pd.read_csv(\"https://raw.githubusercontent.com/alexsnsk/alejandrocastillothevalley/main/customers.csv\")\n",
        "o = pd.read_csv(\"https://raw.githubusercontent.com/alexsnsk/alejandrocastillothevalley/main/orders.csv\")\n",
        "r = pd.read_csv(\"https://raw.githubusercontent.com/alexsnsk/alejandrocastillothevalley/main/returns.csv\")\n",
        "p = pd.read_csv(\"https://raw.githubusercontent.com/alexsnsk/alejandrocastillothevalley/main/products.csv\")\n",
        "# Escribimos los csvs como tablas en la base de datos.\n",
        "c.to_sql('customers', db_con, if_exists='replace', index=False) \n",
        "o.to_sql('orders', db_con, if_exists='replace', index=False) \n",
        "r.to_sql('returns', db_con, if_exists='replace', index=False) \n",
        "p.to_sql('products', db_con, if_exists='replace', index=False) \n",
        "\n",
        "#Cerramos la conexion.\n",
        "db_con.close()"
      ],
      "execution_count": 4,
      "outputs": []
    },
    {
      "cell_type": "code",
      "metadata": {
        "id": "9uDqRuzepP6w"
      },
      "source": [
        "#Para conectarse a una base de datos necesitamos primero saber donde se encuentra, y normalmente usuario y contraseña. \n",
        "#Pero en esta ocasion nos basta con ejecutar la siguiente línea.\n",
        "db_con = sqlite3.connect(r'database.db') "
      ],
      "execution_count": null,
      "outputs": []
    },
    {
      "cell_type": "markdown",
      "metadata": {
        "id": "xSHHlTYFpUCy"
      },
      "source": [
        "Podemos mezclar tablas con JOIN, para aprovechar y traernos ya los datos mezclados en un mismo dataframe."
      ]
    },
    {
      "cell_type": "code",
      "metadata": {
        "id": "5163hseVpV63"
      },
      "source": [
        "order_and_products = pd.read_sql(\"SELECT * FROM orders JOIN products ON orders.Product_ID = products.Product_ID\", db_con)\n",
        "order_and_products.head()"
      ],
      "execution_count": null,
      "outputs": []
    },
    {
      "cell_type": "markdown",
      "metadata": {
        "id": "MDTRG9wsqESM"
      },
      "source": [
        "# Accediendo y manejando los DataFrames\n",
        "\n",
        "En esta sección veremos las formas más comunes de tratar con un dataframe. Como accedemos a las diferentes columnas y filas y cómo se utiliza el index."
      ]
    },
    {
      "cell_type": "code",
      "metadata": {
        "colab": {
          "base_uri": "https://localhost:8080/"
        },
        "id": "TN1qsg5dqESN",
        "outputId": "b754e175-70f9-4f02-fdb6-a9c78cee1d3c"
      },
      "source": [
        "#esta funcion nos indica cuantas filas y columnas tiene nuestro dataframe\n",
        "customers.shape"
      ],
      "execution_count": null,
      "outputs": [
        {
          "output_type": "execute_result",
          "data": {
            "text/plain": [
              "(793, 8)"
            ]
          },
          "metadata": {
            "tags": []
          },
          "execution_count": 7
        }
      ]
    },
    {
      "cell_type": "code",
      "metadata": {
        "colab": {
          "base_uri": "https://localhost:8080/"
        },
        "id": "mSHti-AqqESO",
        "outputId": "b9a310f9-fd64-4cf1-93a3-afa50bc77764"
      },
      "source": [
        "#la funcion len() de python nos devuelve la longitud de objetos, arrays, y tambien de DataFrames\n",
        "len(customers)"
      ],
      "execution_count": null,
      "outputs": [
        {
          "output_type": "execute_result",
          "data": {
            "text/plain": [
              "793"
            ]
          },
          "metadata": {
            "tags": []
          },
          "execution_count": 8
        }
      ]
    },
    {
      "cell_type": "code",
      "metadata": {
        "colab": {
          "base_uri": "https://localhost:8080/"
        },
        "id": "E2Kzhv4QqESP",
        "outputId": "3e9dd8f7-8847-496a-922f-2eb864faf78b"
      },
      "source": [
        "# Podemos recuperar una columna escribiendo dataframe.nombrecolumna\n",
        "customers.Customer_Name"
      ],
      "execution_count": null,
      "outputs": [
        {
          "output_type": "execute_result",
          "data": {
            "text/plain": [
              "0            Jack Lebron\n",
              "1            Scot Wooten\n",
              "2            Sean Miller\n",
              "3      Michelle Lonsdale\n",
              "4             Jack Garza\n",
              "             ...        \n",
              "788          Chuck Sachs\n",
              "789         Janet Martin\n",
              "790        Mick Crebagga\n",
              "791     Victoria Pisteka\n",
              "792        Maria Etezadi\n",
              "Name: Customer_Name, Length: 793, dtype: object"
            ]
          },
          "metadata": {
            "tags": []
          },
          "execution_count": 19
        }
      ]
    },
    {
      "cell_type": "code",
      "metadata": {
        "colab": {
          "base_uri": "https://localhost:8080/"
        },
        "id": "x8vWFeOQqESQ",
        "outputId": "bc070320-5700-4884-a9a3-bfdfbb28c7ad"
      },
      "source": [
        "customers.City"
      ],
      "execution_count": null,
      "outputs": [
        {
          "output_type": "execute_result",
          "data": {
            "text/plain": [
              "0          Riverside\n",
              "1        Springfield\n",
              "2       Jacksonville\n",
              "3      Missouri City\n",
              "4          Charlotte\n",
              "           ...      \n",
              "788    New York City\n",
              "789        Baltimore\n",
              "790          Chicago\n",
              "791    San Francisco\n",
              "792      Springfield\n",
              "Name: City, Length: 793, dtype: object"
            ]
          },
          "metadata": {
            "tags": []
          },
          "execution_count": 42
        }
      ]
    },
    {
      "cell_type": "code",
      "metadata": {
        "colab": {
          "base_uri": "https://localhost:8080/"
        },
        "id": "RX7z7eRGqESR",
        "outputId": "04e0ef93-676e-49f5-ce34-5e7833dca131"
      },
      "source": [
        "#También podemos hacerlo de de esta forma\n",
        "customers[\"Customer_Name\"]"
      ],
      "execution_count": null,
      "outputs": [
        {
          "output_type": "execute_result",
          "data": {
            "text/plain": [
              "0            Jack Lebron\n",
              "1            Scot Wooten\n",
              "2            Sean Miller\n",
              "3      Michelle Lonsdale\n",
              "4             Jack Garza\n",
              "             ...        \n",
              "788          Chuck Sachs\n",
              "789         Janet Martin\n",
              "790        Mick Crebagga\n",
              "791     Victoria Pisteka\n",
              "792        Maria Etezadi\n",
              "Name: Customer_Name, Length: 793, dtype: object"
            ]
          },
          "metadata": {
            "tags": []
          },
          "execution_count": 20
        }
      ]
    },
    {
      "cell_type": "markdown",
      "metadata": {
        "id": "8eDrcdtLppx5"
      },
      "source": [
        "# **iloc**\n",
        "para acceder a filas según su posición\n",
        "\n",
        "# **Loc**\n",
        "lo hacemos basándonos en su Nombre/Etiqueta/Index\n"
      ]
    },
    {
      "cell_type": "code",
      "metadata": {
        "colab": {
          "base_uri": "https://localhost:8080/",
          "height": 407
        },
        "id": "b088ykS5UNkq",
        "outputId": "23b290fd-426a-4a4d-a0a8-4f8ff419d5b0"
      },
      "source": [
        "#Para acceder a una fila segun su posición en el dataframe utilizaremos iloc\n",
        "customers.iloc[12:560]"
      ],
      "execution_count": null,
      "outputs": [
        {
          "output_type": "execute_result",
          "data": {
            "text/html": [
              "<div>\n",
              "<style scoped>\n",
              "    .dataframe tbody tr th:only-of-type {\n",
              "        vertical-align: middle;\n",
              "    }\n",
              "\n",
              "    .dataframe tbody tr th {\n",
              "        vertical-align: top;\n",
              "    }\n",
              "\n",
              "    .dataframe thead th {\n",
              "        text-align: right;\n",
              "    }\n",
              "</style>\n",
              "<table border=\"1\" class=\"dataframe\">\n",
              "  <thead>\n",
              "    <tr style=\"text-align: right;\">\n",
              "      <th></th>\n",
              "      <th>Customer_ID</th>\n",
              "      <th>Customer_Name</th>\n",
              "      <th>Segment</th>\n",
              "      <th>Country</th>\n",
              "      <th>City</th>\n",
              "      <th>State</th>\n",
              "      <th>Postal_Code</th>\n",
              "      <th>Region</th>\n",
              "    </tr>\n",
              "  </thead>\n",
              "  <tbody>\n",
              "    <tr>\n",
              "      <th>12</th>\n",
              "      <td>KB-16405</td>\n",
              "      <td>Katrina Bavinger</td>\n",
              "      <td>Home Office</td>\n",
              "      <td>United States</td>\n",
              "      <td>New York City</td>\n",
              "      <td>New York</td>\n",
              "      <td>10035</td>\n",
              "      <td>East</td>\n",
              "    </tr>\n",
              "    <tr>\n",
              "      <th>13</th>\n",
              "      <td>RH-19495</td>\n",
              "      <td>Rick Hansen</td>\n",
              "      <td>Consumer</td>\n",
              "      <td>United States</td>\n",
              "      <td>Denver</td>\n",
              "      <td>Colorado</td>\n",
              "      <td>80219</td>\n",
              "      <td>West</td>\n",
              "    </tr>\n",
              "    <tr>\n",
              "      <th>14</th>\n",
              "      <td>AG-10900</td>\n",
              "      <td>Arthur Gainer</td>\n",
              "      <td>Consumer</td>\n",
              "      <td>United States</td>\n",
              "      <td>Philadelphia</td>\n",
              "      <td>Pennsylvania</td>\n",
              "      <td>19134</td>\n",
              "      <td>East</td>\n",
              "    </tr>\n",
              "    <tr>\n",
              "      <th>15</th>\n",
              "      <td>RA-19885</td>\n",
              "      <td>Ruben Ausman</td>\n",
              "      <td>Corporate</td>\n",
              "      <td>United States</td>\n",
              "      <td>Athens</td>\n",
              "      <td>Georgia</td>\n",
              "      <td>30605</td>\n",
              "      <td>South</td>\n",
              "    </tr>\n",
              "    <tr>\n",
              "      <th>16</th>\n",
              "      <td>RD-19810</td>\n",
              "      <td>Ross DeVincentis</td>\n",
              "      <td>Home Office</td>\n",
              "      <td>United States</td>\n",
              "      <td>Los Angeles</td>\n",
              "      <td>California</td>\n",
              "      <td>90045</td>\n",
              "      <td>West</td>\n",
              "    </tr>\n",
              "    <tr>\n",
              "      <th>...</th>\n",
              "      <td>...</td>\n",
              "      <td>...</td>\n",
              "      <td>...</td>\n",
              "      <td>...</td>\n",
              "      <td>...</td>\n",
              "      <td>...</td>\n",
              "      <td>...</td>\n",
              "      <td>...</td>\n",
              "    </tr>\n",
              "    <tr>\n",
              "      <th>555</th>\n",
              "      <td>TC-21475</td>\n",
              "      <td>Tony Chapman</td>\n",
              "      <td>Home Office</td>\n",
              "      <td>United States</td>\n",
              "      <td>Danville</td>\n",
              "      <td>Illinois</td>\n",
              "      <td>61832</td>\n",
              "      <td>Central</td>\n",
              "    </tr>\n",
              "    <tr>\n",
              "      <th>556</th>\n",
              "      <td>TT-21070</td>\n",
              "      <td>Ted Trevino</td>\n",
              "      <td>Consumer</td>\n",
              "      <td>United States</td>\n",
              "      <td>Chattanooga</td>\n",
              "      <td>Tennessee</td>\n",
              "      <td>37421</td>\n",
              "      <td>South</td>\n",
              "    </tr>\n",
              "    <tr>\n",
              "      <th>557</th>\n",
              "      <td>BF-11020</td>\n",
              "      <td>Barry Französisch</td>\n",
              "      <td>Corporate</td>\n",
              "      <td>United States</td>\n",
              "      <td>Jacksonville</td>\n",
              "      <td>Florida</td>\n",
              "      <td>32216</td>\n",
              "      <td>South</td>\n",
              "    </tr>\n",
              "    <tr>\n",
              "      <th>558</th>\n",
              "      <td>KB-16315</td>\n",
              "      <td>Karl Braun</td>\n",
              "      <td>Consumer</td>\n",
              "      <td>United States</td>\n",
              "      <td>Newark</td>\n",
              "      <td>Delaware</td>\n",
              "      <td>19711</td>\n",
              "      <td>East</td>\n",
              "    </tr>\n",
              "    <tr>\n",
              "      <th>559</th>\n",
              "      <td>NC-18415</td>\n",
              "      <td>Nathan Cano</td>\n",
              "      <td>Consumer</td>\n",
              "      <td>United States</td>\n",
              "      <td>Fort Worth</td>\n",
              "      <td>Texas</td>\n",
              "      <td>76106</td>\n",
              "      <td>Central</td>\n",
              "    </tr>\n",
              "  </tbody>\n",
              "</table>\n",
              "<p>548 rows × 8 columns</p>\n",
              "</div>"
            ],
            "text/plain": [
              "    Customer_ID      Customer_Name  ... Postal_Code   Region\n",
              "12     KB-16405   Katrina Bavinger  ...       10035     East\n",
              "13     RH-19495        Rick Hansen  ...       80219     West\n",
              "14     AG-10900      Arthur Gainer  ...       19134     East\n",
              "15     RA-19885       Ruben Ausman  ...       30605    South\n",
              "16     RD-19810   Ross DeVincentis  ...       90045     West\n",
              "..          ...                ...  ...         ...      ...\n",
              "555    TC-21475       Tony Chapman  ...       61832  Central\n",
              "556    TT-21070        Ted Trevino  ...       37421    South\n",
              "557    BF-11020  Barry Französisch  ...       32216    South\n",
              "558    KB-16315         Karl Braun  ...       19711     East\n",
              "559    NC-18415        Nathan Cano  ...       76106  Central\n",
              "\n",
              "[548 rows x 8 columns]"
            ]
          },
          "metadata": {
            "tags": []
          },
          "execution_count": 25
        }
      ]
    },
    {
      "cell_type": "code",
      "metadata": {
        "id": "64LLVT8nqVvt"
      },
      "source": [
        "#Recordar que podemos jugar con : de manera muy cómoda, tanto para seleccionar más de una fila coomo mas de una columna\n",
        "customers.iloc[-5:]\n",
        "\n",
        "#Ejecutar estas sentencias para comprobar  los resultados.\n",
        "#customers.iloc[10:15, 1]\n",
        "#customers.iloc[10:, 1:5]\n",
        "#customers.iloc[:, 1:]\n",
        "#customers.iloc[-5:]"
      ],
      "execution_count": null,
      "outputs": []
    },
    {
      "cell_type": "code",
      "metadata": {
        "id": "YaZ5xLXPqvVD"
      },
      "source": [
        "#Con iloc accedemos a los elementos basandonos en su posición, pero con loc lo hacemos basándonos en su Nombre/Etiqueta/Index\n",
        "customers.loc[47]  #con esta sentencia conseguimos la fila con nombre 47"
      ],
      "execution_count": null,
      "outputs": []
    },
    {
      "cell_type": "code",
      "metadata": {
        "colab": {
          "base_uri": "https://localhost:8080/",
          "height": 437
        },
        "id": "QdbzJ9YkrIwe",
        "outputId": "316cdb61-cbf2-4c65-b696-b3b6dadf89d1"
      },
      "source": [
        "#Podemos combinar y crear condiciones tan compllicadas como necesitemos con & (Y) y | (O)\n",
        "customers.loc[ (customers.Region==\"West\") & (customers.Segment==\"Consumer\")]"
      ],
      "execution_count": 5,
      "outputs": [
        {
          "output_type": "execute_result",
          "data": {
            "text/html": [
              "<div>\n",
              "<style scoped>\n",
              "    .dataframe tbody tr th:only-of-type {\n",
              "        vertical-align: middle;\n",
              "    }\n",
              "\n",
              "    .dataframe tbody tr th {\n",
              "        vertical-align: top;\n",
              "    }\n",
              "\n",
              "    .dataframe thead th {\n",
              "        text-align: right;\n",
              "    }\n",
              "</style>\n",
              "<table border=\"1\" class=\"dataframe\">\n",
              "  <thead>\n",
              "    <tr style=\"text-align: right;\">\n",
              "      <th></th>\n",
              "      <th>Customer_Name</th>\n",
              "      <th>Segment</th>\n",
              "      <th>Country</th>\n",
              "      <th>City</th>\n",
              "      <th>State</th>\n",
              "      <th>Postal_Code</th>\n",
              "      <th>Region</th>\n",
              "    </tr>\n",
              "    <tr>\n",
              "      <th>Customer_ID</th>\n",
              "      <th></th>\n",
              "      <th></th>\n",
              "      <th></th>\n",
              "      <th></th>\n",
              "      <th></th>\n",
              "      <th></th>\n",
              "      <th></th>\n",
              "    </tr>\n",
              "  </thead>\n",
              "  <tbody>\n",
              "    <tr>\n",
              "      <th>JL-15130</th>\n",
              "      <td>Jack Lebron</td>\n",
              "      <td>Consumer</td>\n",
              "      <td>United States</td>\n",
              "      <td>Riverside</td>\n",
              "      <td>California</td>\n",
              "      <td>92503</td>\n",
              "      <td>West</td>\n",
              "    </tr>\n",
              "    <tr>\n",
              "      <th>BK-11260</th>\n",
              "      <td>Berenike Kampe</td>\n",
              "      <td>Consumer</td>\n",
              "      <td>United States</td>\n",
              "      <td>San Francisco</td>\n",
              "      <td>California</td>\n",
              "      <td>94110</td>\n",
              "      <td>West</td>\n",
              "    </tr>\n",
              "    <tr>\n",
              "      <th>RH-19495</th>\n",
              "      <td>Rick Hansen</td>\n",
              "      <td>Consumer</td>\n",
              "      <td>United States</td>\n",
              "      <td>Denver</td>\n",
              "      <td>Colorado</td>\n",
              "      <td>80219</td>\n",
              "      <td>West</td>\n",
              "    </tr>\n",
              "    <tr>\n",
              "      <th>RO-19780</th>\n",
              "      <td>Rose O'Brian</td>\n",
              "      <td>Consumer</td>\n",
              "      <td>United States</td>\n",
              "      <td>San Francisco</td>\n",
              "      <td>California</td>\n",
              "      <td>94110</td>\n",
              "      <td>West</td>\n",
              "    </tr>\n",
              "    <tr>\n",
              "      <th>CS-12505</th>\n",
              "      <td>Cindy Stewart</td>\n",
              "      <td>Consumer</td>\n",
              "      <td>United States</td>\n",
              "      <td>San Francisco</td>\n",
              "      <td>California</td>\n",
              "      <td>94122</td>\n",
              "      <td>West</td>\n",
              "    </tr>\n",
              "    <tr>\n",
              "      <th>...</th>\n",
              "      <td>...</td>\n",
              "      <td>...</td>\n",
              "      <td>...</td>\n",
              "      <td>...</td>\n",
              "      <td>...</td>\n",
              "      <td>...</td>\n",
              "      <td>...</td>\n",
              "    </tr>\n",
              "    <tr>\n",
              "      <th>RF-19735</th>\n",
              "      <td>Roland Fjeld</td>\n",
              "      <td>Consumer</td>\n",
              "      <td>United States</td>\n",
              "      <td>San Diego</td>\n",
              "      <td>California</td>\n",
              "      <td>92105</td>\n",
              "      <td>West</td>\n",
              "    </tr>\n",
              "    <tr>\n",
              "      <th>RC-19960</th>\n",
              "      <td>Ryan Crowe</td>\n",
              "      <td>Consumer</td>\n",
              "      <td>United States</td>\n",
              "      <td>Springfield</td>\n",
              "      <td>Oregon</td>\n",
              "      <td>97477</td>\n",
              "      <td>West</td>\n",
              "    </tr>\n",
              "    <tr>\n",
              "      <th>SC-20305</th>\n",
              "      <td>Sean Christensen</td>\n",
              "      <td>Consumer</td>\n",
              "      <td>United States</td>\n",
              "      <td>Los Angeles</td>\n",
              "      <td>California</td>\n",
              "      <td>90036</td>\n",
              "      <td>West</td>\n",
              "    </tr>\n",
              "    <tr>\n",
              "      <th>BS-11755</th>\n",
              "      <td>Bruce Stewart</td>\n",
              "      <td>Consumer</td>\n",
              "      <td>United States</td>\n",
              "      <td>San Francisco</td>\n",
              "      <td>California</td>\n",
              "      <td>94122</td>\n",
              "      <td>West</td>\n",
              "    </tr>\n",
              "    <tr>\n",
              "      <th>SE-20110</th>\n",
              "      <td>Sanjit Engle</td>\n",
              "      <td>Consumer</td>\n",
              "      <td>United States</td>\n",
              "      <td>Springfield</td>\n",
              "      <td>Oregon</td>\n",
              "      <td>97477</td>\n",
              "      <td>West</td>\n",
              "    </tr>\n",
              "  </tbody>\n",
              "</table>\n",
              "<p>129 rows × 7 columns</p>\n",
              "</div>"
            ],
            "text/plain": [
              "                Customer_Name   Segment  ... Postal_Code Region\n",
              "Customer_ID                              ...                   \n",
              "JL-15130          Jack Lebron  Consumer  ...       92503   West\n",
              "BK-11260       Berenike Kampe  Consumer  ...       94110   West\n",
              "RH-19495          Rick Hansen  Consumer  ...       80219   West\n",
              "RO-19780         Rose O'Brian  Consumer  ...       94110   West\n",
              "CS-12505        Cindy Stewart  Consumer  ...       94122   West\n",
              "...                       ...       ...  ...         ...    ...\n",
              "RF-19735         Roland Fjeld  Consumer  ...       92105   West\n",
              "RC-19960           Ryan Crowe  Consumer  ...       97477   West\n",
              "SC-20305     Sean Christensen  Consumer  ...       90036   West\n",
              "BS-11755        Bruce Stewart  Consumer  ...       94122   West\n",
              "SE-20110         Sanjit Engle  Consumer  ...       97477   West\n",
              "\n",
              "[129 rows x 7 columns]"
            ]
          },
          "metadata": {
            "tags": []
          },
          "execution_count": 5
        }
      ]
    },
    {
      "cell_type": "markdown",
      "metadata": {
        "id": "HyjcEnidbOCS"
      },
      "source": [
        "Existen varias funciones que nos facilitan la vida a la hora de seleccionar filas.\n",
        "\n",
        "\n",
        "\n",
        "*   isin nos permite especificar más de un valor válido\n",
        "*   notnull nos permite seleccionar las filas que no tengan valores nulos\n",
        "\n"
      ]
    },
    {
      "cell_type": "code",
      "metadata": {
        "colab": {
          "base_uri": "https://localhost:8080/",
          "height": 437
        },
        "id": "5e44cch3bI9v",
        "outputId": "329e58ae-085f-4842-fcbb-462a38c10bc5"
      },
      "source": [
        "#para seleccionar todas las filas cuyo valor de Segment cumpla uno de estos dos valores\n",
        "customers.loc[customers.Segment.isin([\"Consumer\", \"Corporate\"])]\n",
        "\n",
        "\n",
        "customers.loc[customers.Segment.isin([\"Consumer\", \"Corporate\"])==False] #podemos hacer la inversa añadiendo == False"
      ],
      "execution_count": null,
      "outputs": [
        {
          "output_type": "execute_result",
          "data": {
            "text/html": [
              "<div>\n",
              "<style scoped>\n",
              "    .dataframe tbody tr th:only-of-type {\n",
              "        vertical-align: middle;\n",
              "    }\n",
              "\n",
              "    .dataframe tbody tr th {\n",
              "        vertical-align: top;\n",
              "    }\n",
              "\n",
              "    .dataframe thead th {\n",
              "        text-align: right;\n",
              "    }\n",
              "</style>\n",
              "<table border=\"1\" class=\"dataframe\">\n",
              "  <thead>\n",
              "    <tr style=\"text-align: right;\">\n",
              "      <th></th>\n",
              "      <th>Customer_Name</th>\n",
              "      <th>Segment</th>\n",
              "      <th>Country</th>\n",
              "      <th>City</th>\n",
              "      <th>State</th>\n",
              "      <th>Postal_Code</th>\n",
              "      <th>Region</th>\n",
              "    </tr>\n",
              "    <tr>\n",
              "      <th>Customer_ID</th>\n",
              "      <th></th>\n",
              "      <th></th>\n",
              "      <th></th>\n",
              "      <th></th>\n",
              "      <th></th>\n",
              "      <th></th>\n",
              "      <th></th>\n",
              "    </tr>\n",
              "  </thead>\n",
              "  <tbody>\n",
              "    <tr>\n",
              "      <th>SM-20320</th>\n",
              "      <td>Sean Miller</td>\n",
              "      <td>Home Office</td>\n",
              "      <td>United States</td>\n",
              "      <td>Jacksonville</td>\n",
              "      <td>Florida</td>\n",
              "      <td>32216</td>\n",
              "      <td>South</td>\n",
              "    </tr>\n",
              "    <tr>\n",
              "      <th>PS-18970</th>\n",
              "      <td>Paul Stevenson</td>\n",
              "      <td>Home Office</td>\n",
              "      <td>United States</td>\n",
              "      <td>Chicago</td>\n",
              "      <td>Illinois</td>\n",
              "      <td>60610</td>\n",
              "      <td>Central</td>\n",
              "    </tr>\n",
              "    <tr>\n",
              "      <th>KB-16405</th>\n",
              "      <td>Katrina Bavinger</td>\n",
              "      <td>Home Office</td>\n",
              "      <td>United States</td>\n",
              "      <td>New York City</td>\n",
              "      <td>New York</td>\n",
              "      <td>10035</td>\n",
              "      <td>East</td>\n",
              "    </tr>\n",
              "    <tr>\n",
              "      <th>RD-19810</th>\n",
              "      <td>Ross DeVincentis</td>\n",
              "      <td>Home Office</td>\n",
              "      <td>United States</td>\n",
              "      <td>Los Angeles</td>\n",
              "      <td>California</td>\n",
              "      <td>90045</td>\n",
              "      <td>West</td>\n",
              "    </tr>\n",
              "    <tr>\n",
              "      <th>JK-15640</th>\n",
              "      <td>Jim Kriz</td>\n",
              "      <td>Home Office</td>\n",
              "      <td>United States</td>\n",
              "      <td>Seattle</td>\n",
              "      <td>Washington</td>\n",
              "      <td>98105</td>\n",
              "      <td>West</td>\n",
              "    </tr>\n",
              "    <tr>\n",
              "      <th>...</th>\n",
              "      <td>...</td>\n",
              "      <td>...</td>\n",
              "      <td>...</td>\n",
              "      <td>...</td>\n",
              "      <td>...</td>\n",
              "      <td>...</td>\n",
              "      <td>...</td>\n",
              "    </tr>\n",
              "    <tr>\n",
              "      <th>HP-14815</th>\n",
              "      <td>Harold Pawlan</td>\n",
              "      <td>Home Office</td>\n",
              "      <td>United States</td>\n",
              "      <td>Concord</td>\n",
              "      <td>New Hampshire</td>\n",
              "      <td>3301</td>\n",
              "      <td>East</td>\n",
              "    </tr>\n",
              "    <tr>\n",
              "      <th>SJ-20125</th>\n",
              "      <td>Sanjit Jacobs</td>\n",
              "      <td>Home Office</td>\n",
              "      <td>United States</td>\n",
              "      <td>New Brunswick</td>\n",
              "      <td>New Jersey</td>\n",
              "      <td>8901</td>\n",
              "      <td>East</td>\n",
              "    </tr>\n",
              "    <tr>\n",
              "      <th>NL-18310</th>\n",
              "      <td>Nancy Lomonaco</td>\n",
              "      <td>Home Office</td>\n",
              "      <td>United States</td>\n",
              "      <td>Los Angeles</td>\n",
              "      <td>California</td>\n",
              "      <td>90045</td>\n",
              "      <td>West</td>\n",
              "    </tr>\n",
              "    <tr>\n",
              "      <th>CC-12430</th>\n",
              "      <td>Chuck Clark</td>\n",
              "      <td>Home Office</td>\n",
              "      <td>United States</td>\n",
              "      <td>Lakewood</td>\n",
              "      <td>California</td>\n",
              "      <td>90712</td>\n",
              "      <td>West</td>\n",
              "    </tr>\n",
              "    <tr>\n",
              "      <th>ME-17320</th>\n",
              "      <td>Maria Etezadi</td>\n",
              "      <td>Home Office</td>\n",
              "      <td>United States</td>\n",
              "      <td>Springfield</td>\n",
              "      <td>Virginia</td>\n",
              "      <td>22153</td>\n",
              "      <td>South</td>\n",
              "    </tr>\n",
              "  </tbody>\n",
              "</table>\n",
              "<p>148 rows × 7 columns</p>\n",
              "</div>"
            ],
            "text/plain": [
              "                Customer_Name      Segment  ... Postal_Code   Region\n",
              "Customer_ID                                 ...                     \n",
              "SM-20320          Sean Miller  Home Office  ...       32216    South\n",
              "PS-18970       Paul Stevenson  Home Office  ...       60610  Central\n",
              "KB-16405     Katrina Bavinger  Home Office  ...       10035     East\n",
              "RD-19810     Ross DeVincentis  Home Office  ...       90045     West\n",
              "JK-15640             Jim Kriz  Home Office  ...       98105     West\n",
              "...                       ...          ...  ...         ...      ...\n",
              "HP-14815        Harold Pawlan  Home Office  ...        3301     East\n",
              "SJ-20125        Sanjit Jacobs  Home Office  ...        8901     East\n",
              "NL-18310       Nancy Lomonaco  Home Office  ...       90045     West\n",
              "CC-12430          Chuck Clark  Home Office  ...       90712     West\n",
              "ME-17320        Maria Etezadi  Home Office  ...       22153    South\n",
              "\n",
              "[148 rows x 7 columns]"
            ]
          },
          "metadata": {
            "tags": []
          },
          "execution_count": 58
        }
      ]
    },
    {
      "cell_type": "code",
      "metadata": {
        "colab": {
          "base_uri": "https://localhost:8080/",
          "height": 437
        },
        "id": "vddks10hb-Ig",
        "outputId": "eebb2aad-387d-45bd-89d8-1b6458f13755"
      },
      "source": [
        "#todas las filas cuya region no sea null\n",
        "customers.loc[customers.Region.notnull()]"
      ],
      "execution_count": null,
      "outputs": [
        {
          "output_type": "execute_result",
          "data": {
            "text/html": [
              "<div>\n",
              "<style scoped>\n",
              "    .dataframe tbody tr th:only-of-type {\n",
              "        vertical-align: middle;\n",
              "    }\n",
              "\n",
              "    .dataframe tbody tr th {\n",
              "        vertical-align: top;\n",
              "    }\n",
              "\n",
              "    .dataframe thead th {\n",
              "        text-align: right;\n",
              "    }\n",
              "</style>\n",
              "<table border=\"1\" class=\"dataframe\">\n",
              "  <thead>\n",
              "    <tr style=\"text-align: right;\">\n",
              "      <th></th>\n",
              "      <th>Customer_Name</th>\n",
              "      <th>Segment</th>\n",
              "      <th>Country</th>\n",
              "      <th>City</th>\n",
              "      <th>State</th>\n",
              "      <th>Postal_Code</th>\n",
              "      <th>Region</th>\n",
              "    </tr>\n",
              "    <tr>\n",
              "      <th>Customer_ID</th>\n",
              "      <th></th>\n",
              "      <th></th>\n",
              "      <th></th>\n",
              "      <th></th>\n",
              "      <th></th>\n",
              "      <th></th>\n",
              "      <th></th>\n",
              "    </tr>\n",
              "  </thead>\n",
              "  <tbody>\n",
              "    <tr>\n",
              "      <th>JL-15130</th>\n",
              "      <td>Jack Lebron</td>\n",
              "      <td>Consumer</td>\n",
              "      <td>United States</td>\n",
              "      <td>Riverside</td>\n",
              "      <td>California</td>\n",
              "      <td>92503</td>\n",
              "      <td>West</td>\n",
              "    </tr>\n",
              "    <tr>\n",
              "      <th>SW-20245</th>\n",
              "      <td>Scot Wooten</td>\n",
              "      <td>Consumer</td>\n",
              "      <td>United States</td>\n",
              "      <td>Springfield</td>\n",
              "      <td>Ohio</td>\n",
              "      <td>45503</td>\n",
              "      <td>East</td>\n",
              "    </tr>\n",
              "    <tr>\n",
              "      <th>SM-20320</th>\n",
              "      <td>Sean Miller</td>\n",
              "      <td>Home Office</td>\n",
              "      <td>United States</td>\n",
              "      <td>Jacksonville</td>\n",
              "      <td>Florida</td>\n",
              "      <td>32216</td>\n",
              "      <td>South</td>\n",
              "    </tr>\n",
              "    <tr>\n",
              "      <th>ML-18040</th>\n",
              "      <td>Michelle Lonsdale</td>\n",
              "      <td>Corporate</td>\n",
              "      <td>United States</td>\n",
              "      <td>Missouri City</td>\n",
              "      <td>Texas</td>\n",
              "      <td>77489</td>\n",
              "      <td>Central</td>\n",
              "    </tr>\n",
              "    <tr>\n",
              "      <th>JG-15115</th>\n",
              "      <td>Jack Garza</td>\n",
              "      <td>Consumer</td>\n",
              "      <td>United States</td>\n",
              "      <td>Charlotte</td>\n",
              "      <td>North Carolina</td>\n",
              "      <td>28205</td>\n",
              "      <td>South</td>\n",
              "    </tr>\n",
              "    <tr>\n",
              "      <th>...</th>\n",
              "      <td>...</td>\n",
              "      <td>...</td>\n",
              "      <td>...</td>\n",
              "      <td>...</td>\n",
              "      <td>...</td>\n",
              "      <td>...</td>\n",
              "      <td>...</td>\n",
              "    </tr>\n",
              "    <tr>\n",
              "      <th>CS-12460</th>\n",
              "      <td>Chuck Sachs</td>\n",
              "      <td>Consumer</td>\n",
              "      <td>United States</td>\n",
              "      <td>New York City</td>\n",
              "      <td>New York</td>\n",
              "      <td>10009</td>\n",
              "      <td>East</td>\n",
              "    </tr>\n",
              "    <tr>\n",
              "      <th>JM-15250</th>\n",
              "      <td>Janet Martin</td>\n",
              "      <td>Consumer</td>\n",
              "      <td>United States</td>\n",
              "      <td>Baltimore</td>\n",
              "      <td>Maryland</td>\n",
              "      <td>21215</td>\n",
              "      <td>East</td>\n",
              "    </tr>\n",
              "    <tr>\n",
              "      <th>MC-18100</th>\n",
              "      <td>Mick Crebagga</td>\n",
              "      <td>Consumer</td>\n",
              "      <td>United States</td>\n",
              "      <td>Chicago</td>\n",
              "      <td>Illinois</td>\n",
              "      <td>60623</td>\n",
              "      <td>Central</td>\n",
              "    </tr>\n",
              "    <tr>\n",
              "      <th>VP-21760</th>\n",
              "      <td>Victoria Pisteka</td>\n",
              "      <td>Corporate</td>\n",
              "      <td>United States</td>\n",
              "      <td>San Francisco</td>\n",
              "      <td>California</td>\n",
              "      <td>94109</td>\n",
              "      <td>West</td>\n",
              "    </tr>\n",
              "    <tr>\n",
              "      <th>ME-17320</th>\n",
              "      <td>Maria Etezadi</td>\n",
              "      <td>Home Office</td>\n",
              "      <td>United States</td>\n",
              "      <td>Springfield</td>\n",
              "      <td>Virginia</td>\n",
              "      <td>22153</td>\n",
              "      <td>South</td>\n",
              "    </tr>\n",
              "  </tbody>\n",
              "</table>\n",
              "<p>793 rows × 7 columns</p>\n",
              "</div>"
            ],
            "text/plain": [
              "                 Customer_Name      Segment  ... Postal_Code   Region\n",
              "Customer_ID                                  ...                     \n",
              "JL-15130           Jack Lebron     Consumer  ...       92503     West\n",
              "SW-20245           Scot Wooten     Consumer  ...       45503     East\n",
              "SM-20320           Sean Miller  Home Office  ...       32216    South\n",
              "ML-18040     Michelle Lonsdale    Corporate  ...       77489  Central\n",
              "JG-15115            Jack Garza     Consumer  ...       28205    South\n",
              "...                        ...          ...  ...         ...      ...\n",
              "CS-12460           Chuck Sachs     Consumer  ...       10009     East\n",
              "JM-15250          Janet Martin     Consumer  ...       21215     East\n",
              "MC-18100         Mick Crebagga     Consumer  ...       60623  Central\n",
              "VP-21760      Victoria Pisteka    Corporate  ...       94109     West\n",
              "ME-17320         Maria Etezadi  Home Office  ...       22153    South\n",
              "\n",
              "[793 rows x 7 columns]"
            ]
          },
          "metadata": {
            "tags": []
          },
          "execution_count": 60
        }
      ]
    },
    {
      "cell_type": "code",
      "metadata": {
        "id": "ewb-5DmQb92i"
      },
      "source": [
        "import pandas as pd\n",
        "\n",
        "orders = pd.read_csv(\"https://raw.githubusercontent.com/alexsnsk/alejandrocastillothevalley/main/orders.csv\")"
      ],
      "execution_count": null,
      "outputs": []
    },
    {
      "cell_type": "markdown",
      "metadata": {
        "id": "3-jYDrqQcfXF"
      },
      "source": [
        "## Renombrar\n",
        "Para renombrar columnas utilizaremos la función rename().\n",
        "\n",
        "Por ejemplo, si queremos renombrar la columna Order_Date lo haremos de la siguiente forma."
      ]
    },
    {
      "cell_type": "code",
      "metadata": {
        "colab": {
          "base_uri": "https://localhost:8080/",
          "height": 204
        },
        "id": "9L30rjnhc7q4",
        "outputId": "84e002dc-fe49-4659-de9c-c4bd7bde69ce"
      },
      "source": [
        "orders = orders.rename(columns={\"Order_Date\": \"Date\"})\n",
        "orders.head()"
      ],
      "execution_count": null,
      "outputs": [
        {
          "output_type": "execute_result",
          "data": {
            "text/html": [
              "<div>\n",
              "<style scoped>\n",
              "    .dataframe tbody tr th:only-of-type {\n",
              "        vertical-align: middle;\n",
              "    }\n",
              "\n",
              "    .dataframe tbody tr th {\n",
              "        vertical-align: top;\n",
              "    }\n",
              "\n",
              "    .dataframe thead th {\n",
              "        text-align: right;\n",
              "    }\n",
              "</style>\n",
              "<table border=\"1\" class=\"dataframe\">\n",
              "  <thead>\n",
              "    <tr style=\"text-align: right;\">\n",
              "      <th></th>\n",
              "      <th>Customer_ID</th>\n",
              "      <th>Order_ID</th>\n",
              "      <th>Order_Date</th>\n",
              "      <th>Ship_Date</th>\n",
              "      <th>Ship_Mode</th>\n",
              "      <th>Product_ID</th>\n",
              "      <th>Quantity</th>\n",
              "    </tr>\n",
              "  </thead>\n",
              "  <tbody>\n",
              "    <tr>\n",
              "      <th>0</th>\n",
              "      <td>MG-17875</td>\n",
              "      <td>CA-2014-103744</td>\n",
              "      <td>2014-02-23</td>\n",
              "      <td>2014-02-27</td>\n",
              "      <td>Standard Class</td>\n",
              "      <td>OFF-LA-10004425</td>\n",
              "      <td>3</td>\n",
              "    </tr>\n",
              "    <tr>\n",
              "      <th>1</th>\n",
              "      <td>MG-17875</td>\n",
              "      <td>CA-2014-103744</td>\n",
              "      <td>2014-02-23</td>\n",
              "      <td>2014-02-27</td>\n",
              "      <td>Standard Class</td>\n",
              "      <td>OFF-BI-10000320</td>\n",
              "      <td>3</td>\n",
              "    </tr>\n",
              "    <tr>\n",
              "      <th>2</th>\n",
              "      <td>DE-13255</td>\n",
              "      <td>CA-2014-109134</td>\n",
              "      <td>2014-11-05</td>\n",
              "      <td>2014-11-10</td>\n",
              "      <td>Standard Class</td>\n",
              "      <td>FUR-FU-10000320</td>\n",
              "      <td>6</td>\n",
              "    </tr>\n",
              "    <tr>\n",
              "      <th>3</th>\n",
              "      <td>MD-17350</td>\n",
              "      <td>CA-2014-114251</td>\n",
              "      <td>2014-11-05</td>\n",
              "      <td>2014-11-10</td>\n",
              "      <td>Standard Class</td>\n",
              "      <td>FUR-FU-10001468</td>\n",
              "      <td>2</td>\n",
              "    </tr>\n",
              "    <tr>\n",
              "      <th>4</th>\n",
              "      <td>MD-17350</td>\n",
              "      <td>CA-2014-114251</td>\n",
              "      <td>2014-11-05</td>\n",
              "      <td>2014-11-10</td>\n",
              "      <td>Standard Class</td>\n",
              "      <td>OFF-BI-10003684</td>\n",
              "      <td>2</td>\n",
              "    </tr>\n",
              "  </tbody>\n",
              "</table>\n",
              "</div>"
            ],
            "text/plain": [
              "  Customer_ID        Order_ID  ...       Product_ID Quantity\n",
              "0    MG-17875  CA-2014-103744  ...  OFF-LA-10004425        3\n",
              "1    MG-17875  CA-2014-103744  ...  OFF-BI-10000320        3\n",
              "2    DE-13255  CA-2014-109134  ...  FUR-FU-10000320        6\n",
              "3    MD-17350  CA-2014-114251  ...  FUR-FU-10001468        2\n",
              "4    MD-17350  CA-2014-114251  ...  OFF-BI-10003684        2\n",
              "\n",
              "[5 rows x 7 columns]"
            ]
          },
          "metadata": {
            "tags": []
          },
          "execution_count": 3
        }
      ]
    },
    {
      "cell_type": "markdown",
      "metadata": {
        "id": "cjPfjTm2fgLE"
      },
      "source": [
        "## Combinar DataFrames\n",
        "\n",
        "En ocasiones tenemos diferentes archivos o DataFrames que contienen información con los mismos campos o columnas. Imaginemos que tenemos archivos de años diferentes y queremos agruparlos en uno para trabajar con todos los años en el mismo DataFrame.\n",
        "\n",
        "Utilizaremos la funcion concat()\n",
        "\n"
      ]
    },
    {
      "cell_type": "code",
      "metadata": {
        "colab": {
          "base_uri": "https://localhost:8080/",
          "height": 419
        },
        "id": "FEPNAU8Mf0fZ",
        "outputId": "dfe9d71e-0cad-473d-f8e3-9c562b954ac6"
      },
      "source": [
        "dataframe1 = orders[0:1000]\n",
        "dataframe2 = orders[1000:2000]\n",
        "\n",
        "dataframe3 = pd.concat([dataframe1, dataframe2]) #mirad que a la funcion concat le pasamos un array de dataframes. Pueden ser más de 2!!\n",
        "dataframe3"
      ],
      "execution_count": null,
      "outputs": [
        {
          "output_type": "execute_result",
          "data": {
            "text/html": [
              "<div>\n",
              "<style scoped>\n",
              "    .dataframe tbody tr th:only-of-type {\n",
              "        vertical-align: middle;\n",
              "    }\n",
              "\n",
              "    .dataframe tbody tr th {\n",
              "        vertical-align: top;\n",
              "    }\n",
              "\n",
              "    .dataframe thead th {\n",
              "        text-align: right;\n",
              "    }\n",
              "</style>\n",
              "<table border=\"1\" class=\"dataframe\">\n",
              "  <thead>\n",
              "    <tr style=\"text-align: right;\">\n",
              "      <th></th>\n",
              "      <th>Customer_ID</th>\n",
              "      <th>Order_ID</th>\n",
              "      <th>Order_Date</th>\n",
              "      <th>Ship_Date</th>\n",
              "      <th>Ship_Mode</th>\n",
              "      <th>Product_ID</th>\n",
              "      <th>Quantity</th>\n",
              "    </tr>\n",
              "  </thead>\n",
              "  <tbody>\n",
              "    <tr>\n",
              "      <th>0</th>\n",
              "      <td>MG-17875</td>\n",
              "      <td>CA-2014-103744</td>\n",
              "      <td>2014-02-23</td>\n",
              "      <td>2014-02-27</td>\n",
              "      <td>Standard Class</td>\n",
              "      <td>OFF-LA-10004425</td>\n",
              "      <td>3</td>\n",
              "    </tr>\n",
              "    <tr>\n",
              "      <th>1</th>\n",
              "      <td>MG-17875</td>\n",
              "      <td>CA-2014-103744</td>\n",
              "      <td>2014-02-23</td>\n",
              "      <td>2014-02-27</td>\n",
              "      <td>Standard Class</td>\n",
              "      <td>OFF-BI-10000320</td>\n",
              "      <td>3</td>\n",
              "    </tr>\n",
              "    <tr>\n",
              "      <th>2</th>\n",
              "      <td>DE-13255</td>\n",
              "      <td>CA-2014-109134</td>\n",
              "      <td>2014-11-05</td>\n",
              "      <td>2014-11-10</td>\n",
              "      <td>Standard Class</td>\n",
              "      <td>FUR-FU-10000320</td>\n",
              "      <td>6</td>\n",
              "    </tr>\n",
              "    <tr>\n",
              "      <th>3</th>\n",
              "      <td>MD-17350</td>\n",
              "      <td>CA-2014-114251</td>\n",
              "      <td>2014-11-05</td>\n",
              "      <td>2014-11-10</td>\n",
              "      <td>Standard Class</td>\n",
              "      <td>FUR-FU-10001468</td>\n",
              "      <td>2</td>\n",
              "    </tr>\n",
              "    <tr>\n",
              "      <th>4</th>\n",
              "      <td>MD-17350</td>\n",
              "      <td>CA-2014-114251</td>\n",
              "      <td>2014-11-05</td>\n",
              "      <td>2014-11-10</td>\n",
              "      <td>Standard Class</td>\n",
              "      <td>OFF-BI-10003684</td>\n",
              "      <td>2</td>\n",
              "    </tr>\n",
              "    <tr>\n",
              "      <th>...</th>\n",
              "      <td>...</td>\n",
              "      <td>...</td>\n",
              "      <td>...</td>\n",
              "      <td>...</td>\n",
              "      <td>...</td>\n",
              "      <td>...</td>\n",
              "      <td>...</td>\n",
              "    </tr>\n",
              "    <tr>\n",
              "      <th>1995</th>\n",
              "      <td>MM-17920</td>\n",
              "      <td>CA-2017-164329</td>\n",
              "      <td>2017-01-30</td>\n",
              "      <td>2017-01-30</td>\n",
              "      <td>Same Day</td>\n",
              "      <td>OFF-ST-10001511</td>\n",
              "      <td>2</td>\n",
              "    </tr>\n",
              "    <tr>\n",
              "      <th>1996</th>\n",
              "      <td>DC-13285</td>\n",
              "      <td>CA-2017-104003</td>\n",
              "      <td>2017-10-07</td>\n",
              "      <td>2017-10-13</td>\n",
              "      <td>Standard Class</td>\n",
              "      <td>FUR-BO-10003965</td>\n",
              "      <td>2</td>\n",
              "    </tr>\n",
              "    <tr>\n",
              "      <th>1997</th>\n",
              "      <td>JK-15370</td>\n",
              "      <td>US-2014-102715</td>\n",
              "      <td>2014-04-11</td>\n",
              "      <td>2014-04-13</td>\n",
              "      <td>Second Class</td>\n",
              "      <td>TEC-AC-10001874</td>\n",
              "      <td>7</td>\n",
              "    </tr>\n",
              "    <tr>\n",
              "      <th>1998</th>\n",
              "      <td>JK-15370</td>\n",
              "      <td>US-2014-102715</td>\n",
              "      <td>2014-04-11</td>\n",
              "      <td>2014-04-13</td>\n",
              "      <td>Second Class</td>\n",
              "      <td>OFF-PA-10000029</td>\n",
              "      <td>2</td>\n",
              "    </tr>\n",
              "    <tr>\n",
              "      <th>1999</th>\n",
              "      <td>JK-15370</td>\n",
              "      <td>US-2014-102715</td>\n",
              "      <td>2014-04-11</td>\n",
              "      <td>2014-04-13</td>\n",
              "      <td>Second Class</td>\n",
              "      <td>TEC-AC-10002001</td>\n",
              "      <td>3</td>\n",
              "    </tr>\n",
              "  </tbody>\n",
              "</table>\n",
              "<p>2000 rows × 7 columns</p>\n",
              "</div>"
            ],
            "text/plain": [
              "     Customer_ID        Order_ID  ...       Product_ID Quantity\n",
              "0       MG-17875  CA-2014-103744  ...  OFF-LA-10004425        3\n",
              "1       MG-17875  CA-2014-103744  ...  OFF-BI-10000320        3\n",
              "2       DE-13255  CA-2014-109134  ...  FUR-FU-10000320        6\n",
              "3       MD-17350  CA-2014-114251  ...  FUR-FU-10001468        2\n",
              "4       MD-17350  CA-2014-114251  ...  OFF-BI-10003684        2\n",
              "...          ...             ...  ...              ...      ...\n",
              "1995    MM-17920  CA-2017-164329  ...  OFF-ST-10001511        2\n",
              "1996    DC-13285  CA-2017-104003  ...  FUR-BO-10003965        2\n",
              "1997    JK-15370  US-2014-102715  ...  TEC-AC-10001874        7\n",
              "1998    JK-15370  US-2014-102715  ...  OFF-PA-10000029        2\n",
              "1999    JK-15370  US-2014-102715  ...  TEC-AC-10002001        3\n",
              "\n",
              "[2000 rows x 7 columns]"
            ]
          },
          "metadata": {
            "tags": []
          },
          "execution_count": 13
        }
      ]
    },
    {
      "cell_type": "code",
      "metadata": {
        "colab": {
          "base_uri": "https://localhost:8080/",
          "height": 419
        },
        "id": "kAOrbMccoFUP",
        "outputId": "a5b1bde7-4b4d-4d2b-f473-7a0fde4e117a"
      },
      "source": [
        "orders = pd.read_csv(\"https://raw.githubusercontent.com/alexsnsk/alejandrocastillothevalley/main/orders.csv\")\n",
        "products = orders = pd.read_csv(\"https://raw.githubusercontent.com/alexsnsk/alejandrocastillothevalley/main/products.csv\")\n",
        "\n",
        "\n",
        "orders.join(products.set_index(\"Product_ID\"), on=\"Product_ID\", lsuffix=\"_o\", rsuffix=\"_p\")"
      ],
      "execution_count": null,
      "outputs": [
        {
          "output_type": "execute_result",
          "data": {
            "text/html": [
              "<div>\n",
              "<style scoped>\n",
              "    .dataframe tbody tr th:only-of-type {\n",
              "        vertical-align: middle;\n",
              "    }\n",
              "\n",
              "    .dataframe tbody tr th {\n",
              "        vertical-align: top;\n",
              "    }\n",
              "\n",
              "    .dataframe thead th {\n",
              "        text-align: right;\n",
              "    }\n",
              "</style>\n",
              "<table border=\"1\" class=\"dataframe\">\n",
              "  <thead>\n",
              "    <tr style=\"text-align: right;\">\n",
              "      <th></th>\n",
              "      <th>Product_ID</th>\n",
              "      <th>Category_o</th>\n",
              "      <th>Sub_Category_o</th>\n",
              "      <th>Product_Name_o</th>\n",
              "      <th>Price_o</th>\n",
              "      <th>Category_p</th>\n",
              "      <th>Sub_Category_p</th>\n",
              "      <th>Product_Name_p</th>\n",
              "      <th>Price_p</th>\n",
              "    </tr>\n",
              "  </thead>\n",
              "  <tbody>\n",
              "    <tr>\n",
              "      <th>0</th>\n",
              "      <td>FUR-BO-10000112</td>\n",
              "      <td>Furniture</td>\n",
              "      <td>Bookcases</td>\n",
              "      <td>Bush Birmingham Collection Bookcase, Dark Cherry</td>\n",
              "      <td>422.0</td>\n",
              "      <td>Furniture</td>\n",
              "      <td>Bookcases</td>\n",
              "      <td>Bush Birmingham Collection Bookcase, Dark Cherry</td>\n",
              "      <td>422.0</td>\n",
              "    </tr>\n",
              "    <tr>\n",
              "      <th>1</th>\n",
              "      <td>FUR-BO-10000330</td>\n",
              "      <td>Furniture</td>\n",
              "      <td>Bookcases</td>\n",
              "      <td>Sauder Camden County Barrister Bookcase, Plank...</td>\n",
              "      <td>847.0</td>\n",
              "      <td>Furniture</td>\n",
              "      <td>Bookcases</td>\n",
              "      <td>Sauder Camden County Barrister Bookcase, Plank...</td>\n",
              "      <td>847.0</td>\n",
              "    </tr>\n",
              "    <tr>\n",
              "      <th>2</th>\n",
              "      <td>FUR-BO-10000362</td>\n",
              "      <td>Furniture</td>\n",
              "      <td>Bookcases</td>\n",
              "      <td>Sauder Inglewood Library Bookcases</td>\n",
              "      <td>828.0</td>\n",
              "      <td>Furniture</td>\n",
              "      <td>Bookcases</td>\n",
              "      <td>Sauder Inglewood Library Bookcases</td>\n",
              "      <td>828.0</td>\n",
              "    </tr>\n",
              "    <tr>\n",
              "      <th>3</th>\n",
              "      <td>FUR-BO-10000468</td>\n",
              "      <td>Furniture</td>\n",
              "      <td>Bookcases</td>\n",
              "      <td>O'Sullivan 2-Shelf Heavy-Duty Bookcases</td>\n",
              "      <td>722.0</td>\n",
              "      <td>Furniture</td>\n",
              "      <td>Bookcases</td>\n",
              "      <td>O'Sullivan 2-Shelf Heavy-Duty Bookcases</td>\n",
              "      <td>722.0</td>\n",
              "    </tr>\n",
              "    <tr>\n",
              "      <th>4</th>\n",
              "      <td>FUR-BO-10000711</td>\n",
              "      <td>Furniture</td>\n",
              "      <td>Bookcases</td>\n",
              "      <td>Hon Metal Bookcases, Gray</td>\n",
              "      <td>633.0</td>\n",
              "      <td>Furniture</td>\n",
              "      <td>Bookcases</td>\n",
              "      <td>Hon Metal Bookcases, Gray</td>\n",
              "      <td>633.0</td>\n",
              "    </tr>\n",
              "    <tr>\n",
              "      <th>...</th>\n",
              "      <td>...</td>\n",
              "      <td>...</td>\n",
              "      <td>...</td>\n",
              "      <td>...</td>\n",
              "      <td>...</td>\n",
              "      <td>...</td>\n",
              "      <td>...</td>\n",
              "      <td>...</td>\n",
              "      <td>...</td>\n",
              "    </tr>\n",
              "    <tr>\n",
              "      <th>1889</th>\n",
              "      <td>OFF-EN-10001990</td>\n",
              "      <td>Office Supplies</td>\n",
              "      <td>Envelopes</td>\n",
              "      <td>Staple envelope</td>\n",
              "      <td>501.0</td>\n",
              "      <td>Office Supplies</td>\n",
              "      <td>Envelopes</td>\n",
              "      <td>Staple envelope</td>\n",
              "      <td>501.0</td>\n",
              "    </tr>\n",
              "    <tr>\n",
              "      <th>1890</th>\n",
              "      <td>OFF-EN-10002621</td>\n",
              "      <td>Office Supplies</td>\n",
              "      <td>Envelopes</td>\n",
              "      <td>Staple envelope</td>\n",
              "      <td>782.0</td>\n",
              "      <td>Office Supplies</td>\n",
              "      <td>Envelopes</td>\n",
              "      <td>Staple envelope</td>\n",
              "      <td>782.0</td>\n",
              "    </tr>\n",
              "    <tr>\n",
              "      <th>1891</th>\n",
              "      <td>OFF-EN-10003134</td>\n",
              "      <td>Office Supplies</td>\n",
              "      <td>Envelopes</td>\n",
              "      <td>Staple envelope</td>\n",
              "      <td>524.0</td>\n",
              "      <td>Office Supplies</td>\n",
              "      <td>Envelopes</td>\n",
              "      <td>Staple envelope</td>\n",
              "      <td>524.0</td>\n",
              "    </tr>\n",
              "    <tr>\n",
              "      <th>1892</th>\n",
              "      <td>OFF-EN-10003286</td>\n",
              "      <td>Office Supplies</td>\n",
              "      <td>Envelopes</td>\n",
              "      <td>Staple envelope</td>\n",
              "      <td>482.0</td>\n",
              "      <td>Office Supplies</td>\n",
              "      <td>Envelopes</td>\n",
              "      <td>Staple envelope</td>\n",
              "      <td>482.0</td>\n",
              "    </tr>\n",
              "    <tr>\n",
              "      <th>1893</th>\n",
              "      <td>OFF-EN-10004773</td>\n",
              "      <td>Office Supplies</td>\n",
              "      <td>Envelopes</td>\n",
              "      <td>Staple envelope</td>\n",
              "      <td>983.0</td>\n",
              "      <td>Office Supplies</td>\n",
              "      <td>Envelopes</td>\n",
              "      <td>Staple envelope</td>\n",
              "      <td>983.0</td>\n",
              "    </tr>\n",
              "  </tbody>\n",
              "</table>\n",
              "<p>1958 rows × 9 columns</p>\n",
              "</div>"
            ],
            "text/plain": [
              "           Product_ID  ... Price_p\n",
              "0     FUR-BO-10000112  ...   422.0\n",
              "1     FUR-BO-10000330  ...   847.0\n",
              "2     FUR-BO-10000362  ...   828.0\n",
              "3     FUR-BO-10000468  ...   722.0\n",
              "4     FUR-BO-10000711  ...   633.0\n",
              "...               ...  ...     ...\n",
              "1889  OFF-EN-10001990  ...   501.0\n",
              "1890  OFF-EN-10002621  ...   782.0\n",
              "1891  OFF-EN-10003134  ...   524.0\n",
              "1892  OFF-EN-10003286  ...   482.0\n",
              "1893  OFF-EN-10004773  ...   983.0\n",
              "\n",
              "[1958 rows x 9 columns]"
            ]
          },
          "metadata": {
            "tags": []
          },
          "execution_count": 32
        }
      ]
    },
    {
      "cell_type": "markdown",
      "metadata": {
        "id": "f6Wzo-mRCg1A"
      },
      "source": [
        "# Escribiendo ficheros\n",
        "\n",
        "Escribir un fichero CSV es casi tan fácil como leerlo, utilizando la funcion to_csv() [link text](https://pandas.pydata.org/pandas-docs/stable/reference/api/pandas.DataFrame.to_csv.html)\n"
      ]
    },
    {
      "cell_type": "code",
      "metadata": {
        "id": "FOrhjvRKDlR9"
      },
      "source": [
        "products = pd.read_csv(\"https://raw.githubusercontent.com/alexsnsk/alejandrocastillothevalley/main/products.csv\")\n",
        "\n",
        "products.to_csv(\"productos.csv\")"
      ],
      "execution_count": null,
      "outputs": []
    },
    {
      "cell_type": "markdown",
      "metadata": {
        "id": "ebzuW6cbstLO"
      },
      "source": [
        "## Map()\n",
        "Utilizaremos la función map cuando queremos aplicar una funcion a todos los elementos de una columna.  \n",
        "\n",
        "La función [Map()](https://pandas.pydata.org/pandas-docs/stable/reference/api/pandas.Series.map.html) toma como argumento otra función, que contiene el código que queremos aplicar a cada elemento de la lista o columna."
      ]
    },
    {
      "cell_type": "code",
      "metadata": {
        "colab": {
          "base_uri": "https://localhost:8080/",
          "height": 204
        },
        "id": "x1WdBzuzolbZ",
        "outputId": "632b2f68-7cad-42e0-c633-8a34c8a46601"
      },
      "source": [
        "products = orders = pd.read_csv(\"https://raw.githubusercontent.com/alexsnsk/alejandrocastillothevalley/main/products.csv\")\n",
        "\n",
        "def extrae_codigo(x):\n",
        "  return x[0:3]\n",
        "\n",
        "products[\"Codigo_Categoría\"] = products[\"Product_ID\"].map(extrae_codigo)\n",
        "\n",
        "products.head()"
      ],
      "execution_count": null,
      "outputs": [
        {
          "output_type": "execute_result",
          "data": {
            "text/html": [
              "<div>\n",
              "<style scoped>\n",
              "    .dataframe tbody tr th:only-of-type {\n",
              "        vertical-align: middle;\n",
              "    }\n",
              "\n",
              "    .dataframe tbody tr th {\n",
              "        vertical-align: top;\n",
              "    }\n",
              "\n",
              "    .dataframe thead th {\n",
              "        text-align: right;\n",
              "    }\n",
              "</style>\n",
              "<table border=\"1\" class=\"dataframe\">\n",
              "  <thead>\n",
              "    <tr style=\"text-align: right;\">\n",
              "      <th></th>\n",
              "      <th>Product_ID</th>\n",
              "      <th>Category</th>\n",
              "      <th>Sub_Category</th>\n",
              "      <th>Product_Name</th>\n",
              "      <th>Price</th>\n",
              "      <th>Codigo_Categoría</th>\n",
              "    </tr>\n",
              "  </thead>\n",
              "  <tbody>\n",
              "    <tr>\n",
              "      <th>0</th>\n",
              "      <td>FUR-BO-10000112</td>\n",
              "      <td>Furniture</td>\n",
              "      <td>Bookcases</td>\n",
              "      <td>Bush Birmingham Collection Bookcase, Dark Cherry</td>\n",
              "      <td>422.0</td>\n",
              "      <td>FUR</td>\n",
              "    </tr>\n",
              "    <tr>\n",
              "      <th>1</th>\n",
              "      <td>FUR-BO-10000330</td>\n",
              "      <td>Furniture</td>\n",
              "      <td>Bookcases</td>\n",
              "      <td>Sauder Camden County Barrister Bookcase, Plank...</td>\n",
              "      <td>847.0</td>\n",
              "      <td>FUR</td>\n",
              "    </tr>\n",
              "    <tr>\n",
              "      <th>2</th>\n",
              "      <td>FUR-BO-10000362</td>\n",
              "      <td>Furniture</td>\n",
              "      <td>Bookcases</td>\n",
              "      <td>Sauder Inglewood Library Bookcases</td>\n",
              "      <td>828.0</td>\n",
              "      <td>FUR</td>\n",
              "    </tr>\n",
              "    <tr>\n",
              "      <th>3</th>\n",
              "      <td>FUR-BO-10000468</td>\n",
              "      <td>Furniture</td>\n",
              "      <td>Bookcases</td>\n",
              "      <td>O'Sullivan 2-Shelf Heavy-Duty Bookcases</td>\n",
              "      <td>722.0</td>\n",
              "      <td>FUR</td>\n",
              "    </tr>\n",
              "    <tr>\n",
              "      <th>4</th>\n",
              "      <td>FUR-BO-10000711</td>\n",
              "      <td>Furniture</td>\n",
              "      <td>Bookcases</td>\n",
              "      <td>Hon Metal Bookcases, Gray</td>\n",
              "      <td>633.0</td>\n",
              "      <td>FUR</td>\n",
              "    </tr>\n",
              "  </tbody>\n",
              "</table>\n",
              "</div>"
            ],
            "text/plain": [
              "        Product_ID   Category  ...  Price Codigo_Categoría\n",
              "0  FUR-BO-10000112  Furniture  ...  422.0              FUR\n",
              "1  FUR-BO-10000330  Furniture  ...  847.0              FUR\n",
              "2  FUR-BO-10000362  Furniture  ...  828.0              FUR\n",
              "3  FUR-BO-10000468  Furniture  ...  722.0              FUR\n",
              "4  FUR-BO-10000711  Furniture  ...  633.0              FUR\n",
              "\n",
              "[5 rows x 6 columns]"
            ]
          },
          "metadata": {
            "tags": []
          },
          "execution_count": 42
        }
      ]
    },
    {
      "cell_type": "markdown",
      "metadata": {
        "id": "YLDUDw6Ry1Dh"
      },
      "source": [
        "## Apply()\n",
        "La función Apply funciona de forma muy parecida a la funcion Map. Necesita una función que aplicará a todos los elementos, pero puede aplicarse tanto a una columna entera como a parte o todo el DataFrame.\n",
        "\n",
        "Por ejemplo, igual que el el caso anterior podemos crear una nueva columna que extraiga el código de subcategoría del Product_ID.**bold text**"
      ]
    },
    {
      "cell_type": "code",
      "metadata": {
        "id": "g2wF5S72oGea"
      },
      "source": [
        "df = pd.DataFrame({ 'A': [1,2,3,4], \n",
        "                   'B': [10,20,30,40],\n",
        "                   'C': [20,40,60,80]\n",
        "                  }, \n",
        "                  index=['Row 1', 'Row 2', 'Row 3', 'Row 4'])"
      ],
      "execution_count": null,
      "outputs": []
    },
    {
      "cell_type": "markdown",
      "metadata": {
        "id": "GAGPPbCC2LXX"
      },
      "source": [
        "Podemos aplicar la función sum a todas las columnas o filas del dataframe. Por defecto, lo aplica sobre todas las columnas del dataframe y nos devuelve la suma para cada una de ellas."
      ]
    },
    {
      "cell_type": "code",
      "metadata": {
        "colab": {
          "base_uri": "https://localhost:8080/"
        },
        "id": "ib-XdwfcoPBz",
        "outputId": "9c6d73c1-fd80-4fac-dfcf-a4f0006d2797"
      },
      "source": [
        "df.apply(sum)"
      ],
      "execution_count": null,
      "outputs": [
        {
          "output_type": "execute_result",
          "data": {
            "text/plain": [
              "A     10\n",
              "B    100\n",
              "C    200\n",
              "dtype: int64"
            ]
          },
          "metadata": {
            "tags": []
          },
          "execution_count": 11
        }
      ]
    },
    {
      "cell_type": "markdown",
      "metadata": {
        "id": "1myyHb8i2VwC"
      },
      "source": [
        "Pero con el parameto axis=1 podemos cambiarlo para que lo aplique sobre cada fila en lugar de sobre cada columna."
      ]
    },
    {
      "cell_type": "code",
      "metadata": {
        "colab": {
          "base_uri": "https://localhost:8080/"
        },
        "id": "otJa7LCd2bpy",
        "outputId": "6a605261-27ba-4def-f1c2-eb99c83428b6"
      },
      "source": [
        "df.apply(sum, axis=1)"
      ],
      "execution_count": null,
      "outputs": [
        {
          "output_type": "execute_result",
          "data": {
            "text/plain": [
              "Row 1     31\n",
              "Row 2     62\n",
              "Row 3     93\n",
              "Row 4    124\n",
              "dtype: int64"
            ]
          },
          "metadata": {
            "tags": []
          },
          "execution_count": 12
        }
      ]
    },
    {
      "cell_type": "markdown",
      "metadata": {
        "id": "9AH1W7644VGt"
      },
      "source": [
        ""
      ]
    },
    {
      "cell_type": "markdown",
      "metadata": {
        "id": "mH_pOno2-BkG"
      },
      "source": [
        "#GroupBy y Agregaciones\n",
        "\n",
        "Igual que en SQL, podemos agrupar el dataframe con la funcion GroupBy, de tal forma que las funciones posteriores se apliquen a cada grupo por separado.\n",
        "\n",
        "Por ejemplo, si queremos contar valores de una columna en concreto.\n",
        "\n",
        "\n",
        "En pandas hay que eliminar la agrupación al finalizar, si no el dataframe se mantiene agrupadoy nos dificulta su lectura y manejo. Para ello llamamos a la funcion reset_index()\n"
      ]
    },
    {
      "cell_type": "code",
      "metadata": {
        "colab": {
          "base_uri": "https://localhost:8080/"
        },
        "id": "x19q4B_V-InM",
        "outputId": "0b538e25-37cc-4fa9-caff-14d9da758f7b"
      },
      "source": [
        "#vamos a empezar con la tabla de products limpia de nuevo\n",
        "products = pd.read_csv(\"https://raw.githubusercontent.com/alexsnsk/alejandrocastillothevalley/main/products.csv\")\n",
        "\n",
        "\n",
        "products.groupby(by=\"Category\")[\"Product_ID\"].nunique()\n",
        "\n"
      ],
      "execution_count": null,
      "outputs": [
        {
          "output_type": "execute_result",
          "data": {
            "text/plain": [
              "Category\n",
              "Furniture           375\n",
              "Office Supplies    1083\n",
              "Technology          404\n",
              "Name: Product_ID, dtype: int64"
            ]
          },
          "metadata": {
            "tags": []
          },
          "execution_count": 17
        }
      ]
    },
    {
      "cell_type": "markdown",
      "metadata": {
        "id": "2wgTmkdCAewX"
      },
      "source": [
        "O sumar una columna agrupando por Cateoria y SubCategoria"
      ]
    },
    {
      "cell_type": "code",
      "metadata": {
        "colab": {
          "base_uri": "https://localhost:8080/"
        },
        "id": "U12WgAI2AK5r",
        "outputId": "ea9c3062-dc70-4334-f5fc-efccb08d19a4"
      },
      "source": [
        "products.groupby(by=[\"Category\", \"Sub_Category\"])[\"Price\"].sum()"
      ],
      "execution_count": null,
      "outputs": [
        {
          "output_type": "execute_result",
          "data": {
            "text/plain": [
              "Category         Sub_Category\n",
              "Furniture        Bookcases        29312.0\n",
              "                 Chairs           43189.0\n",
              "                 Furnishings      95106.0\n",
              "                 Tables           27744.0\n",
              "Office Supplies  Appliances       53338.0\n",
              "                 Art              90172.0\n",
              "                 Binders         101781.0\n",
              "                 Envelopes        22793.0\n",
              "                 Fasteners        19094.0\n",
              "                 Labels           35505.0\n",
              "                 Paper           136658.0\n",
              "                 Storage          65629.0\n",
              "                 Supplies         19864.0\n",
              "Technology       Accessories      72253.0\n",
              "                 Copiers           4802.0\n",
              "                 Machines         32637.0\n",
              "                 Phones           96387.0\n",
              "Name: Price, dtype: float64"
            ]
          },
          "metadata": {
            "tags": []
          },
          "execution_count": 21
        }
      ]
    },
    {
      "cell_type": "markdown",
      "metadata": {
        "id": "DCGM_MjWA1lX"
      },
      "source": [
        "Con la función **agg** podemos hacer multiples agregaciones sobre una misma columna a un dataset agrupado, o incluso variar la agregación seleccionada en función de la columna.\n",
        "\n",
        "Una lista de funciones es la siguiente\n",
        "\n",
        "![Captura de pantalla 2021-01-25 105046.jpg](data:image/jpeg;base64,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)\n",
        "\n",
        "\n",
        "\n",
        "Por ejemplo, para agrupar por categoría y subcategoría y calcular el máximo de cada columna"
      ]
    },
    {
      "cell_type": "code",
      "metadata": {
        "colab": {
          "base_uri": "https://localhost:8080/",
          "height": 638
        },
        "id": "aBYuQJ3qBFvH",
        "outputId": "b7158452-bdc5-4621-aa2e-5c4e44e71312"
      },
      "source": [
        "products.groupby([\"Category\", \"Sub_Category\"]).agg([\"max\"])"
      ],
      "execution_count": null,
      "outputs": [
        {
          "output_type": "execute_result",
          "data": {
            "text/html": [
              "<div>\n",
              "<style scoped>\n",
              "    .dataframe tbody tr th:only-of-type {\n",
              "        vertical-align: middle;\n",
              "    }\n",
              "\n",
              "    .dataframe tbody tr th {\n",
              "        vertical-align: top;\n",
              "    }\n",
              "\n",
              "    .dataframe thead tr th {\n",
              "        text-align: left;\n",
              "    }\n",
              "\n",
              "    .dataframe thead tr:last-of-type th {\n",
              "        text-align: right;\n",
              "    }\n",
              "</style>\n",
              "<table border=\"1\" class=\"dataframe\">\n",
              "  <thead>\n",
              "    <tr>\n",
              "      <th></th>\n",
              "      <th></th>\n",
              "      <th>Product_ID</th>\n",
              "      <th>Product_Name</th>\n",
              "      <th>Price</th>\n",
              "    </tr>\n",
              "    <tr>\n",
              "      <th></th>\n",
              "      <th></th>\n",
              "      <th>max</th>\n",
              "      <th>max</th>\n",
              "      <th>max</th>\n",
              "    </tr>\n",
              "    <tr>\n",
              "      <th>Category</th>\n",
              "      <th>Sub_Category</th>\n",
              "      <th></th>\n",
              "      <th></th>\n",
              "      <th></th>\n",
              "    </tr>\n",
              "  </thead>\n",
              "  <tbody>\n",
              "    <tr>\n",
              "      <th rowspan=\"4\" valign=\"top\">Furniture</th>\n",
              "      <th>Bookcases</th>\n",
              "      <td>FUR-BO-10004834</td>\n",
              "      <td>Sauder Mission Library with Doors, Fruitwood F...</td>\n",
              "      <td>944.0</td>\n",
              "    </tr>\n",
              "    <tr>\n",
              "      <th>Chairs</th>\n",
              "      <td>FUR-CH-10004997</td>\n",
              "      <td>Situations Contoured Folding Chairs, 4/Set</td>\n",
              "      <td>992.0</td>\n",
              "    </tr>\n",
              "    <tr>\n",
              "      <th>Furnishings</th>\n",
              "      <td>FUR-FU-10004973</td>\n",
              "      <td>Westinghouse Mesh Shade Clip-On Gooseneck Lamp...</td>\n",
              "      <td>999.0</td>\n",
              "    </tr>\n",
              "    <tr>\n",
              "      <th>Tables</th>\n",
              "      <td>FUR-TA-10004915</td>\n",
              "      <td>Safco Drafting Table</td>\n",
              "      <td>975.0</td>\n",
              "    </tr>\n",
              "    <tr>\n",
              "      <th rowspan=\"9\" valign=\"top\">Office Supplies</th>\n",
              "      <th>Appliances</th>\n",
              "      <td>OFF-AP-10004980</td>\n",
              "      <td>Tripp Lite TLP810NET Broadband Surge for Modem...</td>\n",
              "      <td>997.0</td>\n",
              "    </tr>\n",
              "    <tr>\n",
              "      <th>Art</th>\n",
              "      <td>OFF-AR-10004999</td>\n",
              "      <td>Zebra Zazzle Fluorescent Highlighters</td>\n",
              "      <td>989.0</td>\n",
              "    </tr>\n",
              "    <tr>\n",
              "      <th>Binders</th>\n",
              "      <td>OFF-BI-10004995</td>\n",
              "      <td>Zipper Ring Binder Pockets</td>\n",
              "      <td>996.0</td>\n",
              "    </tr>\n",
              "    <tr>\n",
              "      <th>Envelopes</th>\n",
              "      <td>OFF-EN-10004955</td>\n",
              "      <td>White Envelopes, White Envelopes with Clear Po...</td>\n",
              "      <td>990.0</td>\n",
              "    </tr>\n",
              "    <tr>\n",
              "      <th>Fasteners</th>\n",
              "      <td>OFF-FA-10004968</td>\n",
              "      <td>Vinyl Coated Wire Paper Clips in Organizer Box...</td>\n",
              "      <td>908.0</td>\n",
              "    </tr>\n",
              "    <tr>\n",
              "      <th>Labels</th>\n",
              "      <td>OFF-LA-10004853</td>\n",
              "      <td>Staple-on labels</td>\n",
              "      <td>986.0</td>\n",
              "    </tr>\n",
              "    <tr>\n",
              "      <th>Paper</th>\n",
              "      <td>OFF-PA-10004996</td>\n",
              "      <td>Xerox Color Copier Paper, 11\" x 17\", Ream</td>\n",
              "      <td>997.0</td>\n",
              "    </tr>\n",
              "    <tr>\n",
              "      <th>Storage</th>\n",
              "      <td>OFF-ST-10004963</td>\n",
              "      <td>X-Rack File for Hanging Folders</td>\n",
              "      <td>999.0</td>\n",
              "    </tr>\n",
              "    <tr>\n",
              "      <th>Supplies</th>\n",
              "      <td>OFF-SU-10004884</td>\n",
              "      <td>Stiletto Hand Letter Openers</td>\n",
              "      <td>951.0</td>\n",
              "    </tr>\n",
              "    <tr>\n",
              "      <th rowspan=\"4\" valign=\"top\">Technology</th>\n",
              "      <th>Accessories</th>\n",
              "      <td>TEC-AC-10004992</td>\n",
              "      <td>WD My Passport Ultra 500GB Portable External H...</td>\n",
              "      <td>1000.0</td>\n",
              "    </tr>\n",
              "    <tr>\n",
              "      <th>Copiers</th>\n",
              "      <td>TEC-CO-10004722</td>\n",
              "      <td>Sharp AL-1530CS Digital Copier</td>\n",
              "      <td>839.0</td>\n",
              "    </tr>\n",
              "    <tr>\n",
              "      <th>Machines</th>\n",
              "      <td>TEC-MA-10004679</td>\n",
              "      <td>Zebra ZM400 Thermal Label Printer</td>\n",
              "      <td>986.0</td>\n",
              "    </tr>\n",
              "    <tr>\n",
              "      <th>Phones</th>\n",
              "      <td>TEC-PH-10004977</td>\n",
              "      <td>netTALK DUO VoIP Telephone Service</td>\n",
              "      <td>992.0</td>\n",
              "    </tr>\n",
              "  </tbody>\n",
              "</table>\n",
              "</div>"
            ],
            "text/plain": [
              "                                   Product_ID  ...   Price\n",
              "                                          max  ...     max\n",
              "Category        Sub_Category                   ...        \n",
              "Furniture       Bookcases     FUR-BO-10004834  ...   944.0\n",
              "                Chairs        FUR-CH-10004997  ...   992.0\n",
              "                Furnishings   FUR-FU-10004973  ...   999.0\n",
              "                Tables        FUR-TA-10004915  ...   975.0\n",
              "Office Supplies Appliances    OFF-AP-10004980  ...   997.0\n",
              "                Art           OFF-AR-10004999  ...   989.0\n",
              "                Binders       OFF-BI-10004995  ...   996.0\n",
              "                Envelopes     OFF-EN-10004955  ...   990.0\n",
              "                Fasteners     OFF-FA-10004968  ...   908.0\n",
              "                Labels        OFF-LA-10004853  ...   986.0\n",
              "                Paper         OFF-PA-10004996  ...   997.0\n",
              "                Storage       OFF-ST-10004963  ...   999.0\n",
              "                Supplies      OFF-SU-10004884  ...   951.0\n",
              "Technology      Accessories   TEC-AC-10004992  ...  1000.0\n",
              "                Copiers       TEC-CO-10004722  ...   839.0\n",
              "                Machines      TEC-MA-10004679  ...   986.0\n",
              "                Phones        TEC-PH-10004977  ...   992.0\n",
              "\n",
              "[17 rows x 3 columns]"
            ]
          },
          "metadata": {
            "tags": []
          },
          "execution_count": 10
        }
      ]
    },
    {
      "cell_type": "markdown",
      "metadata": {
        "id": "Z6kkP_n4--FS"
      },
      "source": [
        "Observar como ha agrupado el índice de Categoría y Subcategoría. A esto se le llama indice jerárquico. Resulta más cómodo de leer, queda más bonito, y mejora el performance cuando estamos tratando con muchos (MUCHOS) datos. \n",
        "\n",
        "Pero en ocasiones, si queremos utilizar este resultado en siguientes pasos, nos dificulta. Para evitar este funcionamiento tenemos dos opciones. Utilizar la funcion reset_index() después de calcular, o utilizar el argumento as_index=False en groupby()."
      ]
    },
    {
      "cell_type": "code",
      "metadata": {
        "colab": {
          "base_uri": "https://localhost:8080/",
          "height": 607
        },
        "id": "-AuOy3u6_my8",
        "outputId": "29153430-a964-4734-9b57-ce2b52cf66d7"
      },
      "source": [
        "products.groupby([\"Category\", \"Sub_Category\"] ).agg([\"max\"]).reset_index()"
      ],
      "execution_count": null,
      "outputs": [
        {
          "output_type": "execute_result",
          "data": {
            "text/html": [
              "<div>\n",
              "<style scoped>\n",
              "    .dataframe tbody tr th:only-of-type {\n",
              "        vertical-align: middle;\n",
              "    }\n",
              "\n",
              "    .dataframe tbody tr th {\n",
              "        vertical-align: top;\n",
              "    }\n",
              "\n",
              "    .dataframe thead tr th {\n",
              "        text-align: left;\n",
              "    }\n",
              "</style>\n",
              "<table border=\"1\" class=\"dataframe\">\n",
              "  <thead>\n",
              "    <tr>\n",
              "      <th></th>\n",
              "      <th>Category</th>\n",
              "      <th>Sub_Category</th>\n",
              "      <th>Product_ID</th>\n",
              "      <th>Product_Name</th>\n",
              "      <th>Price</th>\n",
              "    </tr>\n",
              "    <tr>\n",
              "      <th></th>\n",
              "      <th></th>\n",
              "      <th></th>\n",
              "      <th>max</th>\n",
              "      <th>max</th>\n",
              "      <th>max</th>\n",
              "    </tr>\n",
              "  </thead>\n",
              "  <tbody>\n",
              "    <tr>\n",
              "      <th>0</th>\n",
              "      <td>Furniture</td>\n",
              "      <td>Bookcases</td>\n",
              "      <td>FUR-BO-10004834</td>\n",
              "      <td>Sauder Mission Library with Doors, Fruitwood F...</td>\n",
              "      <td>944.0</td>\n",
              "    </tr>\n",
              "    <tr>\n",
              "      <th>1</th>\n",
              "      <td>Furniture</td>\n",
              "      <td>Chairs</td>\n",
              "      <td>FUR-CH-10004997</td>\n",
              "      <td>Situations Contoured Folding Chairs, 4/Set</td>\n",
              "      <td>992.0</td>\n",
              "    </tr>\n",
              "    <tr>\n",
              "      <th>2</th>\n",
              "      <td>Furniture</td>\n",
              "      <td>Furnishings</td>\n",
              "      <td>FUR-FU-10004973</td>\n",
              "      <td>Westinghouse Mesh Shade Clip-On Gooseneck Lamp...</td>\n",
              "      <td>999.0</td>\n",
              "    </tr>\n",
              "    <tr>\n",
              "      <th>3</th>\n",
              "      <td>Furniture</td>\n",
              "      <td>Tables</td>\n",
              "      <td>FUR-TA-10004915</td>\n",
              "      <td>Safco Drafting Table</td>\n",
              "      <td>975.0</td>\n",
              "    </tr>\n",
              "    <tr>\n",
              "      <th>4</th>\n",
              "      <td>Office Supplies</td>\n",
              "      <td>Appliances</td>\n",
              "      <td>OFF-AP-10004980</td>\n",
              "      <td>Tripp Lite TLP810NET Broadband Surge for Modem...</td>\n",
              "      <td>997.0</td>\n",
              "    </tr>\n",
              "    <tr>\n",
              "      <th>5</th>\n",
              "      <td>Office Supplies</td>\n",
              "      <td>Art</td>\n",
              "      <td>OFF-AR-10004999</td>\n",
              "      <td>Zebra Zazzle Fluorescent Highlighters</td>\n",
              "      <td>989.0</td>\n",
              "    </tr>\n",
              "    <tr>\n",
              "      <th>6</th>\n",
              "      <td>Office Supplies</td>\n",
              "      <td>Binders</td>\n",
              "      <td>OFF-BI-10004995</td>\n",
              "      <td>Zipper Ring Binder Pockets</td>\n",
              "      <td>996.0</td>\n",
              "    </tr>\n",
              "    <tr>\n",
              "      <th>7</th>\n",
              "      <td>Office Supplies</td>\n",
              "      <td>Envelopes</td>\n",
              "      <td>OFF-EN-10004955</td>\n",
              "      <td>White Envelopes, White Envelopes with Clear Po...</td>\n",
              "      <td>990.0</td>\n",
              "    </tr>\n",
              "    <tr>\n",
              "      <th>8</th>\n",
              "      <td>Office Supplies</td>\n",
              "      <td>Fasteners</td>\n",
              "      <td>OFF-FA-10004968</td>\n",
              "      <td>Vinyl Coated Wire Paper Clips in Organizer Box...</td>\n",
              "      <td>908.0</td>\n",
              "    </tr>\n",
              "    <tr>\n",
              "      <th>9</th>\n",
              "      <td>Office Supplies</td>\n",
              "      <td>Labels</td>\n",
              "      <td>OFF-LA-10004853</td>\n",
              "      <td>Staple-on labels</td>\n",
              "      <td>986.0</td>\n",
              "    </tr>\n",
              "    <tr>\n",
              "      <th>10</th>\n",
              "      <td>Office Supplies</td>\n",
              "      <td>Paper</td>\n",
              "      <td>OFF-PA-10004996</td>\n",
              "      <td>Xerox Color Copier Paper, 11\" x 17\", Ream</td>\n",
              "      <td>997.0</td>\n",
              "    </tr>\n",
              "    <tr>\n",
              "      <th>11</th>\n",
              "      <td>Office Supplies</td>\n",
              "      <td>Storage</td>\n",
              "      <td>OFF-ST-10004963</td>\n",
              "      <td>X-Rack File for Hanging Folders</td>\n",
              "      <td>999.0</td>\n",
              "    </tr>\n",
              "    <tr>\n",
              "      <th>12</th>\n",
              "      <td>Office Supplies</td>\n",
              "      <td>Supplies</td>\n",
              "      <td>OFF-SU-10004884</td>\n",
              "      <td>Stiletto Hand Letter Openers</td>\n",
              "      <td>951.0</td>\n",
              "    </tr>\n",
              "    <tr>\n",
              "      <th>13</th>\n",
              "      <td>Technology</td>\n",
              "      <td>Accessories</td>\n",
              "      <td>TEC-AC-10004992</td>\n",
              "      <td>WD My Passport Ultra 500GB Portable External H...</td>\n",
              "      <td>1000.0</td>\n",
              "    </tr>\n",
              "    <tr>\n",
              "      <th>14</th>\n",
              "      <td>Technology</td>\n",
              "      <td>Copiers</td>\n",
              "      <td>TEC-CO-10004722</td>\n",
              "      <td>Sharp AL-1530CS Digital Copier</td>\n",
              "      <td>839.0</td>\n",
              "    </tr>\n",
              "    <tr>\n",
              "      <th>15</th>\n",
              "      <td>Technology</td>\n",
              "      <td>Machines</td>\n",
              "      <td>TEC-MA-10004679</td>\n",
              "      <td>Zebra ZM400 Thermal Label Printer</td>\n",
              "      <td>986.0</td>\n",
              "    </tr>\n",
              "    <tr>\n",
              "      <th>16</th>\n",
              "      <td>Technology</td>\n",
              "      <td>Phones</td>\n",
              "      <td>TEC-PH-10004977</td>\n",
              "      <td>netTALK DUO VoIP Telephone Service</td>\n",
              "      <td>992.0</td>\n",
              "    </tr>\n",
              "  </tbody>\n",
              "</table>\n",
              "</div>"
            ],
            "text/plain": [
              "           Category  ...   Price\n",
              "                     ...     max\n",
              "0         Furniture  ...   944.0\n",
              "1         Furniture  ...   992.0\n",
              "2         Furniture  ...   999.0\n",
              "3         Furniture  ...   975.0\n",
              "4   Office Supplies  ...   997.0\n",
              "5   Office Supplies  ...   989.0\n",
              "6   Office Supplies  ...   996.0\n",
              "7   Office Supplies  ...   990.0\n",
              "8   Office Supplies  ...   908.0\n",
              "9   Office Supplies  ...   986.0\n",
              "10  Office Supplies  ...   997.0\n",
              "11  Office Supplies  ...   999.0\n",
              "12  Office Supplies  ...   951.0\n",
              "13       Technology  ...  1000.0\n",
              "14       Technology  ...   839.0\n",
              "15       Technology  ...   986.0\n",
              "16       Technology  ...   992.0\n",
              "\n",
              "[17 rows x 5 columns]"
            ]
          },
          "metadata": {
            "tags": []
          },
          "execution_count": 29
        }
      ]
    },
    {
      "cell_type": "markdown",
      "metadata": {
        "id": "ueHjmc1xBOef"
      },
      "source": [
        "Pero lo normal es que queramos, por ejemplo, calcular la media de una columna, y el conteo de valores diferentes de otra.\n",
        "Para ello tenemos forma de indicar qué columnas queremos agregar y qué hacer con cada una de ellas."
      ]
    },
    {
      "cell_type": "code",
      "metadata": {
        "colab": {
          "base_uri": "https://localhost:8080/",
          "height": 607
        },
        "id": "j8qRjqMoBZc3",
        "outputId": "0773c201-5b7d-4dfb-f5d0-c308ed48b8b9"
      },
      "source": [
        "products.groupby([\"Category\", \"Sub_Category\"]).agg({\"Price\": \"mean\", \"Product_ID\": \"nunique\"})"
      ],
      "execution_count": null,
      "outputs": [
        {
          "output_type": "execute_result",
          "data": {
            "text/html": [
              "<div>\n",
              "<style scoped>\n",
              "    .dataframe tbody tr th:only-of-type {\n",
              "        vertical-align: middle;\n",
              "    }\n",
              "\n",
              "    .dataframe tbody tr th {\n",
              "        vertical-align: top;\n",
              "    }\n",
              "\n",
              "    .dataframe thead th {\n",
              "        text-align: right;\n",
              "    }\n",
              "</style>\n",
              "<table border=\"1\" class=\"dataframe\">\n",
              "  <thead>\n",
              "    <tr style=\"text-align: right;\">\n",
              "      <th></th>\n",
              "      <th></th>\n",
              "      <th>Price</th>\n",
              "      <th>Product_ID</th>\n",
              "    </tr>\n",
              "    <tr>\n",
              "      <th>Category</th>\n",
              "      <th>Sub_Category</th>\n",
              "      <th></th>\n",
              "      <th></th>\n",
              "    </tr>\n",
              "  </thead>\n",
              "  <tbody>\n",
              "    <tr>\n",
              "      <th rowspan=\"4\" valign=\"top\">Furniture</th>\n",
              "      <th>Bookcases</th>\n",
              "      <td>586.240000</td>\n",
              "      <td>49</td>\n",
              "    </tr>\n",
              "    <tr>\n",
              "      <th>Chairs</th>\n",
              "      <td>490.784091</td>\n",
              "      <td>87</td>\n",
              "    </tr>\n",
              "    <tr>\n",
              "      <th>Furnishings</th>\n",
              "      <td>505.882979</td>\n",
              "      <td>182</td>\n",
              "    </tr>\n",
              "    <tr>\n",
              "      <th>Tables</th>\n",
              "      <td>486.736842</td>\n",
              "      <td>57</td>\n",
              "    </tr>\n",
              "    <tr>\n",
              "      <th rowspan=\"9\" valign=\"top\">Office Supplies</th>\n",
              "      <th>Appliances</th>\n",
              "      <td>538.767677</td>\n",
              "      <td>98</td>\n",
              "    </tr>\n",
              "    <tr>\n",
              "      <th>Art</th>\n",
              "      <td>549.829268</td>\n",
              "      <td>163</td>\n",
              "    </tr>\n",
              "    <tr>\n",
              "      <th>Binders</th>\n",
              "      <td>477.845070</td>\n",
              "      <td>210</td>\n",
              "    </tr>\n",
              "    <tr>\n",
              "      <th>Envelopes</th>\n",
              "      <td>422.092593</td>\n",
              "      <td>54</td>\n",
              "    </tr>\n",
              "    <tr>\n",
              "      <th>Fasteners</th>\n",
              "      <td>444.046512</td>\n",
              "      <td>43</td>\n",
              "    </tr>\n",
              "    <tr>\n",
              "      <th>Labels</th>\n",
              "      <td>507.214286</td>\n",
              "      <td>70</td>\n",
              "    </tr>\n",
              "    <tr>\n",
              "      <th>Paper</th>\n",
              "      <td>481.190141</td>\n",
              "      <td>276</td>\n",
              "    </tr>\n",
              "    <tr>\n",
              "      <th>Storage</th>\n",
              "      <td>493.451128</td>\n",
              "      <td>131</td>\n",
              "    </tr>\n",
              "    <tr>\n",
              "      <th>Supplies</th>\n",
              "      <td>522.736842</td>\n",
              "      <td>38</td>\n",
              "    </tr>\n",
              "    <tr>\n",
              "      <th rowspan=\"4\" valign=\"top\">Technology</th>\n",
              "      <th>Accessories</th>\n",
              "      <td>491.517007</td>\n",
              "      <td>144</td>\n",
              "    </tr>\n",
              "    <tr>\n",
              "      <th>Copiers</th>\n",
              "      <td>369.384615</td>\n",
              "      <td>13</td>\n",
              "    </tr>\n",
              "    <tr>\n",
              "      <th>Machines</th>\n",
              "      <td>509.953125</td>\n",
              "      <td>63</td>\n",
              "    </tr>\n",
              "    <tr>\n",
              "      <th>Phones</th>\n",
              "      <td>509.984127</td>\n",
              "      <td>184</td>\n",
              "    </tr>\n",
              "  </tbody>\n",
              "</table>\n",
              "</div>"
            ],
            "text/plain": [
              "                                   Price  Product_ID\n",
              "Category        Sub_Category                        \n",
              "Furniture       Bookcases     586.240000          49\n",
              "                Chairs        490.784091          87\n",
              "                Furnishings   505.882979         182\n",
              "                Tables        486.736842          57\n",
              "Office Supplies Appliances    538.767677          98\n",
              "                Art           549.829268         163\n",
              "                Binders       477.845070         210\n",
              "                Envelopes     422.092593          54\n",
              "                Fasteners     444.046512          43\n",
              "                Labels        507.214286          70\n",
              "                Paper         481.190141         276\n",
              "                Storage       493.451128         131\n",
              "                Supplies      522.736842          38\n",
              "Technology      Accessories   491.517007         144\n",
              "                Copiers       369.384615          13\n",
              "                Machines      509.953125          63\n",
              "                Phones        509.984127         184"
            ]
          },
          "metadata": {
            "tags": []
          },
          "execution_count": 31
        }
      ]
    }
  ]
}