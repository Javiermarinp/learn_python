{
  "nbformat": 4,
  "nbformat_minor": 0,
  "metadata": {
    "colab": {
      "name": "Empezamos.ipynb",
      "provenance": [],
      "collapsed_sections": [],
      "authorship_tag": "ABX9TyNVaC2sq2T9Isr1Xg7ah63q",
      "include_colab_link": true
    },
    "kernelspec": {
      "name": "python3",
      "display_name": "Python 3"
    },
    "language_info": {
      "name": "python"
    }
  },
  "cells": [
    {
      "cell_type": "markdown",
      "metadata": {
        "id": "view-in-github",
        "colab_type": "text"
      },
      "source": [
        "<a href=\"https://colab.research.google.com/github/Javiermarinp/learn_python/blob/main/Empezamos.ipynb\" target=\"_parent\"><img src=\"https://colab.research.google.com/assets/colab-badge.svg\" alt=\"Open In Colab\"/></a>"
      ]
    },
    {
      "cell_type": "markdown",
      "metadata": {
        "id": "7XuSlAy6t8GU"
      },
      "source": [
        "## Primeros pasos con Python\n",
        "\n",
        "\n",
        "Siempre puedes hacel el help() o bien usar Google\n",
        "\n"
      ]
    },
    {
      "cell_type": "code",
      "metadata": {
        "id": "0hpzuUj6w4v9"
      },
      "source": [
        "help(int)"
      ],
      "execution_count": null,
      "outputs": []
    },
    {
      "cell_type": "markdown",
      "metadata": {
        "id": "JKwgcd3ZwmN2"
      },
      "source": [
        "\n",
        "**Operadores de asignacion**\n",
        "\n",
        "= Asignación\n",
        "\n",
        "+= Suma el valor a una variable\n",
        "-= Resta el valor a una variable\n",
        "\n",
        "*= Multiplica el valor de una variable\n",
        "\n",
        "/= Divide el valor de la variable\n",
        "\n",
        "**= Calcula el exponente de una variable\n",
        "\n",
        "//= Calcula la división entera de una variable\n",
        "\n",
        "%= Calcula el resto de una variable"
      ]
    },
    {
      "cell_type": "code",
      "metadata": {
        "id": "fDxc_GaMu3ZM"
      },
      "source": [
        "a=1\n",
        "a+=10\n",
        "a-=1\n",
        "a*=10\n",
        "a/=10\n",
        "a**=6\n",
        "a//=10\n",
        "a%=10\n",
        "a"
      ],
      "execution_count": null,
      "outputs": []
    },
    {
      "cell_type": "markdown",
      "metadata": {
        "id": "KskQ4uRSvbEM"
      },
      "source": [
        "**Operadores relacionales**\n",
        "\n",
        "Todos estos operadores devuelven un tipo booleano que puede ser **True o False**\n",
        "\n",
        "1. **==** Compara dos primitivos o dos variables y devuelve True si son iguales y False si son distintos\n",
        "1. **!=** Compara dos primitivos o dos variables y devuelve True si son distintos o False si son iguales\n",
        "3. **>** Compara dos primitivos o dos variables y devuelve True si a>b  o False si b<a\n",
        "4. **>=** Compara dos primitivos o dos variables y devuelve True si a>=b  o False si b<=a\n",
        "4. **<** Compara dos primitivos o dos variables y devuelve True si a<b  o False si b<a\n",
        "4. **<=** Compara dos primitivos o dos variables y devuelve True si a<=b  o False si b<=a"
      ]
    },
    {
      "cell_type": "code",
      "metadata": {
        "colab": {
          "base_uri": "https://localhost:8080/"
        },
        "id": "2dHgpHCDvfeb",
        "outputId": "8f8837aa-5a25-4bd9-da19-63945f03e708"
      },
      "source": [
        "a=1\n",
        "b=2\n",
        "print(a==b)\n",
        "print(a>b)\n",
        "print(b>a)\n",
        "print(b>=a)\n",
        "print(a<=b)"
      ],
      "execution_count": 1,
      "outputs": [
        {
          "output_type": "stream",
          "text": [
            "False\n",
            "False\n",
            "True\n",
            "True\n",
            "True\n"
          ],
          "name": "stdout"
        }
      ]
    },
    {
      "cell_type": "markdown",
      "metadata": {
        "id": "8E2x2aL5xUyG"
      },
      "source": [
        "**Recuperar el tipo de una variable**"
      ]
    },
    {
      "cell_type": "code",
      "metadata": {
        "colab": {
          "base_uri": "https://localhost:8080/"
        },
        "id": "gvbf1EIZxdUs",
        "outputId": "8f896610-3435-4357-8e2f-be36ac46c8e6"
      },
      "source": [
        "a=5\n",
        "type(a)"
      ],
      "execution_count": 4,
      "outputs": [
        {
          "output_type": "execute_result",
          "data": {
            "text/plain": [
              "int"
            ]
          },
          "metadata": {
            "tags": []
          },
          "execution_count": 4
        }
      ]
    },
    {
      "cell_type": "markdown",
      "metadata": {
        "id": "vQzZZ02yxp3s"
      },
      "source": [
        "**Recuperar información del tipo de una variable**"
      ]
    },
    {
      "cell_type": "code",
      "metadata": {
        "id": "hfYcWc3_xqrp"
      },
      "source": [
        "dir(a)"
      ],
      "execution_count": null,
      "outputs": []
    },
    {
      "cell_type": "markdown",
      "metadata": {
        "id": "ozrK8BLjcD1O"
      },
      "source": [
        "**Lamba functions**"
      ]
    },
    {
      "cell_type": "code",
      "metadata": {
        "id": "1SZqCd9ScE-i"
      },
      "source": [
        "sum = lambda x,y:x+y\n",
        "sum(5,3)\n",
        "\n",
        "fn = lambda a:print(a)\n",
        "x=fn('marta')"
      ],
      "execution_count": null,
      "outputs": []
    }
  ]
}